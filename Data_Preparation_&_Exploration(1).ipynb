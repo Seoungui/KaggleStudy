{
  "nbformat": 4,
  "nbformat_minor": 0,
  "metadata": {
    "colab": {
      "name": "Data Preparation & Exploration(1).ipynb",
      "provenance": [],
      "collapsed_sections": []
    },
    "kernelspec": {
      "name": "python3",
      "display_name": "Python 3"
    },
    "language_info": {
      "name": "python"
    }
  },
  "cells": [
    {
      "cell_type": "markdown",
      "metadata": {
        "id": "GseOhh0IKUoM"
      },
      "source": [
        "#**Introduction**<br>\n",
        "이것은 PorteSeguro 대회의 데이터에서 좋은 통찰력을 얻는 것을 목표로 한다. 그 외에도 모델링을 위해 데이터를 준비하는 몇 가지 팁과 요령을 제공한다. 노트북은 다음과 같은 주요 섹션으로 구성된다."
      ]
    },
    {
      "cell_type": "markdown",
      "metadata": {
        "id": "GpG6LPsDKnKz"
      },
      "source": [
        "**Loading Packages**"
      ]
    },
    {
      "cell_type": "code",
      "metadata": {
        "id": "385JaEtFKPdt"
      },
      "source": [
        "import pandas as pd\n",
        "import numpy as np\n",
        "import matplotlib.pyplot as plt\n",
        "import seaborn as sns\n",
        "from sklearn.impute import SimpleImputer\n",
        "from sklearn.preprocessing import PolynomialFeatures\n",
        "from sklearn.preprocessing import StandardScaler\n",
        "from sklearn.feature_selection import VarianceThreshold\n",
        "from sklearn.feature_selection import SelectFromModel\n",
        "from sklearn.utils import shuffle\n",
        "from sklearn.ensemble import RandomForestClassifier\n",
        "\n",
        "pd.set_option('display.max_columns', 100)"
      ],
      "execution_count": 1,
      "outputs": []
    },
    {
      "cell_type": "markdown",
      "metadata": {
        "id": "HYuxiv0rMD3l"
      },
      "source": [
        "**Loading data**"
      ]
    },
    {
      "cell_type": "code",
      "metadata": {
        "id": "lFiq3sHFLR85"
      },
      "source": [
        "train = pd.read_csv('/content/drive/MyDrive/Colab Notebooks/Connection/Kaggle 필사/porto seguro/train.csv')\n",
        "test = pd.read_csv('/content/drive/MyDrive/Colab Notebooks/Connection/Kaggle 필사/porto seguro/test.csv')"
      ],
      "execution_count": 2,
      "outputs": []
    },
    {
      "cell_type": "markdown",
      "metadata": {
        "id": "G0hLdnBXMhGB"
      },
      "source": [
        "#**1. Visual inspection of your data** "
      ]
    },
    {
      "cell_type": "markdown",
      "metadata": {
        "id": "IGHpduYwMono"
      },
      "source": [
        "##**Data at first sight**<br>\n",
        "다음은 대회 데이터 설명에서 발췌한 내용이다.\n",
        "\n",
        "- 유사한 그룹에 속하는 특성은 **특성 이름에 태그**가 지정된다.(예: ind, reg, car, calc)\n",
        "- 특성 이름에는 이진 특성을 나타내는 접미사 **bin**과 범주 특성을 나타내는 **cat**이 포함된다.\n",
        "- 이러한 **지정이 없는 특성은 연속형이거나 순서형**이다.\n",
        "- **-1** 값은 관측치에서 **특성이 누락되었음**을 나타낸다.\n",
        "- **대상** 열은 해당 보험 계약자에 대한 청구가 접수되었는지 여부를 나타낸다.\n",
        "\n",
        "이들은 시작하는 데 중요한 정보이다. 이 모든 것을 확인한기 위해 첫 번째 행과 마지막 행을 빠르게 살펴 보겠다."
      ]
    },
    {
      "cell_type": "code",
      "metadata": {
        "colab": {
          "base_uri": "https://localhost:8080/",
          "height": 215
        },
        "id": "fzoiO6CGMXNc",
        "outputId": "4986b0f2-0328-4216-fcbf-120d88815314"
      },
      "source": [
        "train.head()"
      ],
      "execution_count": 3,
      "outputs": [
        {
          "output_type": "execute_result",
          "data": {
            "text/html": [
              "<div>\n",
              "<style scoped>\n",
              "    .dataframe tbody tr th:only-of-type {\n",
              "        vertical-align: middle;\n",
              "    }\n",
              "\n",
              "    .dataframe tbody tr th {\n",
              "        vertical-align: top;\n",
              "    }\n",
              "\n",
              "    .dataframe thead th {\n",
              "        text-align: right;\n",
              "    }\n",
              "</style>\n",
              "<table border=\"1\" class=\"dataframe\">\n",
              "  <thead>\n",
              "    <tr style=\"text-align: right;\">\n",
              "      <th></th>\n",
              "      <th>id</th>\n",
              "      <th>target</th>\n",
              "      <th>ps_ind_01</th>\n",
              "      <th>ps_ind_02_cat</th>\n",
              "      <th>ps_ind_03</th>\n",
              "      <th>ps_ind_04_cat</th>\n",
              "      <th>ps_ind_05_cat</th>\n",
              "      <th>ps_ind_06_bin</th>\n",
              "      <th>ps_ind_07_bin</th>\n",
              "      <th>ps_ind_08_bin</th>\n",
              "      <th>ps_ind_09_bin</th>\n",
              "      <th>ps_ind_10_bin</th>\n",
              "      <th>ps_ind_11_bin</th>\n",
              "      <th>ps_ind_12_bin</th>\n",
              "      <th>ps_ind_13_bin</th>\n",
              "      <th>ps_ind_14</th>\n",
              "      <th>ps_ind_15</th>\n",
              "      <th>ps_ind_16_bin</th>\n",
              "      <th>ps_ind_17_bin</th>\n",
              "      <th>ps_ind_18_bin</th>\n",
              "      <th>ps_reg_01</th>\n",
              "      <th>ps_reg_02</th>\n",
              "      <th>ps_reg_03</th>\n",
              "      <th>ps_car_01_cat</th>\n",
              "      <th>ps_car_02_cat</th>\n",
              "      <th>ps_car_03_cat</th>\n",
              "      <th>ps_car_04_cat</th>\n",
              "      <th>ps_car_05_cat</th>\n",
              "      <th>ps_car_06_cat</th>\n",
              "      <th>ps_car_07_cat</th>\n",
              "      <th>ps_car_08_cat</th>\n",
              "      <th>ps_car_09_cat</th>\n",
              "      <th>ps_car_10_cat</th>\n",
              "      <th>ps_car_11_cat</th>\n",
              "      <th>ps_car_11</th>\n",
              "      <th>ps_car_12</th>\n",
              "      <th>ps_car_13</th>\n",
              "      <th>ps_car_14</th>\n",
              "      <th>ps_car_15</th>\n",
              "      <th>ps_calc_01</th>\n",
              "      <th>ps_calc_02</th>\n",
              "      <th>ps_calc_03</th>\n",
              "      <th>ps_calc_04</th>\n",
              "      <th>ps_calc_05</th>\n",
              "      <th>ps_calc_06</th>\n",
              "      <th>ps_calc_07</th>\n",
              "      <th>ps_calc_08</th>\n",
              "      <th>ps_calc_09</th>\n",
              "      <th>ps_calc_10</th>\n",
              "      <th>ps_calc_11</th>\n",
              "      <th>ps_calc_12</th>\n",
              "      <th>ps_calc_13</th>\n",
              "      <th>ps_calc_14</th>\n",
              "      <th>ps_calc_15_bin</th>\n",
              "      <th>ps_calc_16_bin</th>\n",
              "      <th>ps_calc_17_bin</th>\n",
              "      <th>ps_calc_18_bin</th>\n",
              "      <th>ps_calc_19_bin</th>\n",
              "      <th>ps_calc_20_bin</th>\n",
              "    </tr>\n",
              "  </thead>\n",
              "  <tbody>\n",
              "    <tr>\n",
              "      <th>0</th>\n",
              "      <td>7</td>\n",
              "      <td>0</td>\n",
              "      <td>2</td>\n",
              "      <td>2</td>\n",
              "      <td>5</td>\n",
              "      <td>1</td>\n",
              "      <td>0</td>\n",
              "      <td>0</td>\n",
              "      <td>1</td>\n",
              "      <td>0</td>\n",
              "      <td>0</td>\n",
              "      <td>0</td>\n",
              "      <td>0</td>\n",
              "      <td>0</td>\n",
              "      <td>0</td>\n",
              "      <td>0</td>\n",
              "      <td>11</td>\n",
              "      <td>0</td>\n",
              "      <td>1</td>\n",
              "      <td>0</td>\n",
              "      <td>0.7</td>\n",
              "      <td>0.2</td>\n",
              "      <td>0.718070</td>\n",
              "      <td>10</td>\n",
              "      <td>1</td>\n",
              "      <td>-1</td>\n",
              "      <td>0</td>\n",
              "      <td>1</td>\n",
              "      <td>4</td>\n",
              "      <td>1</td>\n",
              "      <td>0</td>\n",
              "      <td>0</td>\n",
              "      <td>1</td>\n",
              "      <td>12</td>\n",
              "      <td>2</td>\n",
              "      <td>0.400000</td>\n",
              "      <td>0.883679</td>\n",
              "      <td>0.370810</td>\n",
              "      <td>3.605551</td>\n",
              "      <td>0.6</td>\n",
              "      <td>0.5</td>\n",
              "      <td>0.2</td>\n",
              "      <td>3</td>\n",
              "      <td>1</td>\n",
              "      <td>10</td>\n",
              "      <td>1</td>\n",
              "      <td>10</td>\n",
              "      <td>1</td>\n",
              "      <td>5</td>\n",
              "      <td>9</td>\n",
              "      <td>1</td>\n",
              "      <td>5</td>\n",
              "      <td>8</td>\n",
              "      <td>0</td>\n",
              "      <td>1</td>\n",
              "      <td>1</td>\n",
              "      <td>0</td>\n",
              "      <td>0</td>\n",
              "      <td>1</td>\n",
              "    </tr>\n",
              "    <tr>\n",
              "      <th>1</th>\n",
              "      <td>9</td>\n",
              "      <td>0</td>\n",
              "      <td>1</td>\n",
              "      <td>1</td>\n",
              "      <td>7</td>\n",
              "      <td>0</td>\n",
              "      <td>0</td>\n",
              "      <td>0</td>\n",
              "      <td>0</td>\n",
              "      <td>1</td>\n",
              "      <td>0</td>\n",
              "      <td>0</td>\n",
              "      <td>0</td>\n",
              "      <td>0</td>\n",
              "      <td>0</td>\n",
              "      <td>0</td>\n",
              "      <td>3</td>\n",
              "      <td>0</td>\n",
              "      <td>0</td>\n",
              "      <td>1</td>\n",
              "      <td>0.8</td>\n",
              "      <td>0.4</td>\n",
              "      <td>0.766078</td>\n",
              "      <td>11</td>\n",
              "      <td>1</td>\n",
              "      <td>-1</td>\n",
              "      <td>0</td>\n",
              "      <td>-1</td>\n",
              "      <td>11</td>\n",
              "      <td>1</td>\n",
              "      <td>1</td>\n",
              "      <td>2</td>\n",
              "      <td>1</td>\n",
              "      <td>19</td>\n",
              "      <td>3</td>\n",
              "      <td>0.316228</td>\n",
              "      <td>0.618817</td>\n",
              "      <td>0.388716</td>\n",
              "      <td>2.449490</td>\n",
              "      <td>0.3</td>\n",
              "      <td>0.1</td>\n",
              "      <td>0.3</td>\n",
              "      <td>2</td>\n",
              "      <td>1</td>\n",
              "      <td>9</td>\n",
              "      <td>5</td>\n",
              "      <td>8</td>\n",
              "      <td>1</td>\n",
              "      <td>7</td>\n",
              "      <td>3</td>\n",
              "      <td>1</td>\n",
              "      <td>1</td>\n",
              "      <td>9</td>\n",
              "      <td>0</td>\n",
              "      <td>1</td>\n",
              "      <td>1</td>\n",
              "      <td>0</td>\n",
              "      <td>1</td>\n",
              "      <td>0</td>\n",
              "    </tr>\n",
              "    <tr>\n",
              "      <th>2</th>\n",
              "      <td>13</td>\n",
              "      <td>0</td>\n",
              "      <td>5</td>\n",
              "      <td>4</td>\n",
              "      <td>9</td>\n",
              "      <td>1</td>\n",
              "      <td>0</td>\n",
              "      <td>0</td>\n",
              "      <td>0</td>\n",
              "      <td>1</td>\n",
              "      <td>0</td>\n",
              "      <td>0</td>\n",
              "      <td>0</td>\n",
              "      <td>0</td>\n",
              "      <td>0</td>\n",
              "      <td>0</td>\n",
              "      <td>12</td>\n",
              "      <td>1</td>\n",
              "      <td>0</td>\n",
              "      <td>0</td>\n",
              "      <td>0.0</td>\n",
              "      <td>0.0</td>\n",
              "      <td>-1.000000</td>\n",
              "      <td>7</td>\n",
              "      <td>1</td>\n",
              "      <td>-1</td>\n",
              "      <td>0</td>\n",
              "      <td>-1</td>\n",
              "      <td>14</td>\n",
              "      <td>1</td>\n",
              "      <td>1</td>\n",
              "      <td>2</td>\n",
              "      <td>1</td>\n",
              "      <td>60</td>\n",
              "      <td>1</td>\n",
              "      <td>0.316228</td>\n",
              "      <td>0.641586</td>\n",
              "      <td>0.347275</td>\n",
              "      <td>3.316625</td>\n",
              "      <td>0.5</td>\n",
              "      <td>0.7</td>\n",
              "      <td>0.1</td>\n",
              "      <td>2</td>\n",
              "      <td>2</td>\n",
              "      <td>9</td>\n",
              "      <td>1</td>\n",
              "      <td>8</td>\n",
              "      <td>2</td>\n",
              "      <td>7</td>\n",
              "      <td>4</td>\n",
              "      <td>2</td>\n",
              "      <td>7</td>\n",
              "      <td>7</td>\n",
              "      <td>0</td>\n",
              "      <td>1</td>\n",
              "      <td>1</td>\n",
              "      <td>0</td>\n",
              "      <td>1</td>\n",
              "      <td>0</td>\n",
              "    </tr>\n",
              "    <tr>\n",
              "      <th>3</th>\n",
              "      <td>16</td>\n",
              "      <td>0</td>\n",
              "      <td>0</td>\n",
              "      <td>1</td>\n",
              "      <td>2</td>\n",
              "      <td>0</td>\n",
              "      <td>0</td>\n",
              "      <td>1</td>\n",
              "      <td>0</td>\n",
              "      <td>0</td>\n",
              "      <td>0</td>\n",
              "      <td>0</td>\n",
              "      <td>0</td>\n",
              "      <td>0</td>\n",
              "      <td>0</td>\n",
              "      <td>0</td>\n",
              "      <td>8</td>\n",
              "      <td>1</td>\n",
              "      <td>0</td>\n",
              "      <td>0</td>\n",
              "      <td>0.9</td>\n",
              "      <td>0.2</td>\n",
              "      <td>0.580948</td>\n",
              "      <td>7</td>\n",
              "      <td>1</td>\n",
              "      <td>0</td>\n",
              "      <td>0</td>\n",
              "      <td>1</td>\n",
              "      <td>11</td>\n",
              "      <td>1</td>\n",
              "      <td>1</td>\n",
              "      <td>3</td>\n",
              "      <td>1</td>\n",
              "      <td>104</td>\n",
              "      <td>1</td>\n",
              "      <td>0.374166</td>\n",
              "      <td>0.542949</td>\n",
              "      <td>0.294958</td>\n",
              "      <td>2.000000</td>\n",
              "      <td>0.6</td>\n",
              "      <td>0.9</td>\n",
              "      <td>0.1</td>\n",
              "      <td>2</td>\n",
              "      <td>4</td>\n",
              "      <td>7</td>\n",
              "      <td>1</td>\n",
              "      <td>8</td>\n",
              "      <td>4</td>\n",
              "      <td>2</td>\n",
              "      <td>2</td>\n",
              "      <td>2</td>\n",
              "      <td>4</td>\n",
              "      <td>9</td>\n",
              "      <td>0</td>\n",
              "      <td>0</td>\n",
              "      <td>0</td>\n",
              "      <td>0</td>\n",
              "      <td>0</td>\n",
              "      <td>0</td>\n",
              "    </tr>\n",
              "    <tr>\n",
              "      <th>4</th>\n",
              "      <td>17</td>\n",
              "      <td>0</td>\n",
              "      <td>0</td>\n",
              "      <td>2</td>\n",
              "      <td>0</td>\n",
              "      <td>1</td>\n",
              "      <td>0</td>\n",
              "      <td>1</td>\n",
              "      <td>0</td>\n",
              "      <td>0</td>\n",
              "      <td>0</td>\n",
              "      <td>0</td>\n",
              "      <td>0</td>\n",
              "      <td>0</td>\n",
              "      <td>0</td>\n",
              "      <td>0</td>\n",
              "      <td>9</td>\n",
              "      <td>1</td>\n",
              "      <td>0</td>\n",
              "      <td>0</td>\n",
              "      <td>0.7</td>\n",
              "      <td>0.6</td>\n",
              "      <td>0.840759</td>\n",
              "      <td>11</td>\n",
              "      <td>1</td>\n",
              "      <td>-1</td>\n",
              "      <td>0</td>\n",
              "      <td>-1</td>\n",
              "      <td>14</td>\n",
              "      <td>1</td>\n",
              "      <td>1</td>\n",
              "      <td>2</td>\n",
              "      <td>1</td>\n",
              "      <td>82</td>\n",
              "      <td>3</td>\n",
              "      <td>0.316070</td>\n",
              "      <td>0.565832</td>\n",
              "      <td>0.365103</td>\n",
              "      <td>2.000000</td>\n",
              "      <td>0.4</td>\n",
              "      <td>0.6</td>\n",
              "      <td>0.0</td>\n",
              "      <td>2</td>\n",
              "      <td>2</td>\n",
              "      <td>6</td>\n",
              "      <td>3</td>\n",
              "      <td>10</td>\n",
              "      <td>2</td>\n",
              "      <td>12</td>\n",
              "      <td>3</td>\n",
              "      <td>1</td>\n",
              "      <td>1</td>\n",
              "      <td>3</td>\n",
              "      <td>0</td>\n",
              "      <td>0</td>\n",
              "      <td>0</td>\n",
              "      <td>1</td>\n",
              "      <td>1</td>\n",
              "      <td>0</td>\n",
              "    </tr>\n",
              "  </tbody>\n",
              "</table>\n",
              "</div>"
            ],
            "text/plain": [
              "   id  target  ps_ind_01  ps_ind_02_cat  ps_ind_03  ps_ind_04_cat  \\\n",
              "0   7       0          2              2          5              1   \n",
              "1   9       0          1              1          7              0   \n",
              "2  13       0          5              4          9              1   \n",
              "3  16       0          0              1          2              0   \n",
              "4  17       0          0              2          0              1   \n",
              "\n",
              "   ps_ind_05_cat  ps_ind_06_bin  ps_ind_07_bin  ps_ind_08_bin  ps_ind_09_bin  \\\n",
              "0              0              0              1              0              0   \n",
              "1              0              0              0              1              0   \n",
              "2              0              0              0              1              0   \n",
              "3              0              1              0              0              0   \n",
              "4              0              1              0              0              0   \n",
              "\n",
              "   ps_ind_10_bin  ps_ind_11_bin  ps_ind_12_bin  ps_ind_13_bin  ps_ind_14  \\\n",
              "0              0              0              0              0          0   \n",
              "1              0              0              0              0          0   \n",
              "2              0              0              0              0          0   \n",
              "3              0              0              0              0          0   \n",
              "4              0              0              0              0          0   \n",
              "\n",
              "   ps_ind_15  ps_ind_16_bin  ps_ind_17_bin  ps_ind_18_bin  ps_reg_01  \\\n",
              "0         11              0              1              0        0.7   \n",
              "1          3              0              0              1        0.8   \n",
              "2         12              1              0              0        0.0   \n",
              "3          8              1              0              0        0.9   \n",
              "4          9              1              0              0        0.7   \n",
              "\n",
              "   ps_reg_02  ps_reg_03  ps_car_01_cat  ps_car_02_cat  ps_car_03_cat  \\\n",
              "0        0.2   0.718070             10              1             -1   \n",
              "1        0.4   0.766078             11              1             -1   \n",
              "2        0.0  -1.000000              7              1             -1   \n",
              "3        0.2   0.580948              7              1              0   \n",
              "4        0.6   0.840759             11              1             -1   \n",
              "\n",
              "   ps_car_04_cat  ps_car_05_cat  ps_car_06_cat  ps_car_07_cat  ps_car_08_cat  \\\n",
              "0              0              1              4              1              0   \n",
              "1              0             -1             11              1              1   \n",
              "2              0             -1             14              1              1   \n",
              "3              0              1             11              1              1   \n",
              "4              0             -1             14              1              1   \n",
              "\n",
              "   ps_car_09_cat  ps_car_10_cat  ps_car_11_cat  ps_car_11  ps_car_12  \\\n",
              "0              0              1             12          2   0.400000   \n",
              "1              2              1             19          3   0.316228   \n",
              "2              2              1             60          1   0.316228   \n",
              "3              3              1            104          1   0.374166   \n",
              "4              2              1             82          3   0.316070   \n",
              "\n",
              "   ps_car_13  ps_car_14  ps_car_15  ps_calc_01  ps_calc_02  ps_calc_03  \\\n",
              "0   0.883679   0.370810   3.605551         0.6         0.5         0.2   \n",
              "1   0.618817   0.388716   2.449490         0.3         0.1         0.3   \n",
              "2   0.641586   0.347275   3.316625         0.5         0.7         0.1   \n",
              "3   0.542949   0.294958   2.000000         0.6         0.9         0.1   \n",
              "4   0.565832   0.365103   2.000000         0.4         0.6         0.0   \n",
              "\n",
              "   ps_calc_04  ps_calc_05  ps_calc_06  ps_calc_07  ps_calc_08  ps_calc_09  \\\n",
              "0           3           1          10           1          10           1   \n",
              "1           2           1           9           5           8           1   \n",
              "2           2           2           9           1           8           2   \n",
              "3           2           4           7           1           8           4   \n",
              "4           2           2           6           3          10           2   \n",
              "\n",
              "   ps_calc_10  ps_calc_11  ps_calc_12  ps_calc_13  ps_calc_14  ps_calc_15_bin  \\\n",
              "0           5           9           1           5           8               0   \n",
              "1           7           3           1           1           9               0   \n",
              "2           7           4           2           7           7               0   \n",
              "3           2           2           2           4           9               0   \n",
              "4          12           3           1           1           3               0   \n",
              "\n",
              "   ps_calc_16_bin  ps_calc_17_bin  ps_calc_18_bin  ps_calc_19_bin  \\\n",
              "0               1               1               0               0   \n",
              "1               1               1               0               1   \n",
              "2               1               1               0               1   \n",
              "3               0               0               0               0   \n",
              "4               0               0               1               1   \n",
              "\n",
              "   ps_calc_20_bin  \n",
              "0               1  \n",
              "1               0  \n",
              "2               0  \n",
              "3               0  \n",
              "4               0  "
            ]
          },
          "metadata": {
            "tags": []
          },
          "execution_count": 3
        }
      ]
    },
    {
      "cell_type": "code",
      "metadata": {
        "colab": {
          "base_uri": "https://localhost:8080/",
          "height": 215
        },
        "id": "xQ2_r5UbNm5C",
        "outputId": "290e09cf-e27c-4f87-f03b-208d52f89267"
      },
      "source": [
        "train.tail()"
      ],
      "execution_count": 4,
      "outputs": [
        {
          "output_type": "execute_result",
          "data": {
            "text/html": [
              "<div>\n",
              "<style scoped>\n",
              "    .dataframe tbody tr th:only-of-type {\n",
              "        vertical-align: middle;\n",
              "    }\n",
              "\n",
              "    .dataframe tbody tr th {\n",
              "        vertical-align: top;\n",
              "    }\n",
              "\n",
              "    .dataframe thead th {\n",
              "        text-align: right;\n",
              "    }\n",
              "</style>\n",
              "<table border=\"1\" class=\"dataframe\">\n",
              "  <thead>\n",
              "    <tr style=\"text-align: right;\">\n",
              "      <th></th>\n",
              "      <th>id</th>\n",
              "      <th>target</th>\n",
              "      <th>ps_ind_01</th>\n",
              "      <th>ps_ind_02_cat</th>\n",
              "      <th>ps_ind_03</th>\n",
              "      <th>ps_ind_04_cat</th>\n",
              "      <th>ps_ind_05_cat</th>\n",
              "      <th>ps_ind_06_bin</th>\n",
              "      <th>ps_ind_07_bin</th>\n",
              "      <th>ps_ind_08_bin</th>\n",
              "      <th>ps_ind_09_bin</th>\n",
              "      <th>ps_ind_10_bin</th>\n",
              "      <th>ps_ind_11_bin</th>\n",
              "      <th>ps_ind_12_bin</th>\n",
              "      <th>ps_ind_13_bin</th>\n",
              "      <th>ps_ind_14</th>\n",
              "      <th>ps_ind_15</th>\n",
              "      <th>ps_ind_16_bin</th>\n",
              "      <th>ps_ind_17_bin</th>\n",
              "      <th>ps_ind_18_bin</th>\n",
              "      <th>ps_reg_01</th>\n",
              "      <th>ps_reg_02</th>\n",
              "      <th>ps_reg_03</th>\n",
              "      <th>ps_car_01_cat</th>\n",
              "      <th>ps_car_02_cat</th>\n",
              "      <th>ps_car_03_cat</th>\n",
              "      <th>ps_car_04_cat</th>\n",
              "      <th>ps_car_05_cat</th>\n",
              "      <th>ps_car_06_cat</th>\n",
              "      <th>ps_car_07_cat</th>\n",
              "      <th>ps_car_08_cat</th>\n",
              "      <th>ps_car_09_cat</th>\n",
              "      <th>ps_car_10_cat</th>\n",
              "      <th>ps_car_11_cat</th>\n",
              "      <th>ps_car_11</th>\n",
              "      <th>ps_car_12</th>\n",
              "      <th>ps_car_13</th>\n",
              "      <th>ps_car_14</th>\n",
              "      <th>ps_car_15</th>\n",
              "      <th>ps_calc_01</th>\n",
              "      <th>ps_calc_02</th>\n",
              "      <th>ps_calc_03</th>\n",
              "      <th>ps_calc_04</th>\n",
              "      <th>ps_calc_05</th>\n",
              "      <th>ps_calc_06</th>\n",
              "      <th>ps_calc_07</th>\n",
              "      <th>ps_calc_08</th>\n",
              "      <th>ps_calc_09</th>\n",
              "      <th>ps_calc_10</th>\n",
              "      <th>ps_calc_11</th>\n",
              "      <th>ps_calc_12</th>\n",
              "      <th>ps_calc_13</th>\n",
              "      <th>ps_calc_14</th>\n",
              "      <th>ps_calc_15_bin</th>\n",
              "      <th>ps_calc_16_bin</th>\n",
              "      <th>ps_calc_17_bin</th>\n",
              "      <th>ps_calc_18_bin</th>\n",
              "      <th>ps_calc_19_bin</th>\n",
              "      <th>ps_calc_20_bin</th>\n",
              "    </tr>\n",
              "  </thead>\n",
              "  <tbody>\n",
              "    <tr>\n",
              "      <th>595207</th>\n",
              "      <td>1488013</td>\n",
              "      <td>0</td>\n",
              "      <td>3</td>\n",
              "      <td>1</td>\n",
              "      <td>10</td>\n",
              "      <td>0</td>\n",
              "      <td>0</td>\n",
              "      <td>0</td>\n",
              "      <td>0</td>\n",
              "      <td>0</td>\n",
              "      <td>1</td>\n",
              "      <td>0</td>\n",
              "      <td>0</td>\n",
              "      <td>0</td>\n",
              "      <td>0</td>\n",
              "      <td>0</td>\n",
              "      <td>13</td>\n",
              "      <td>1</td>\n",
              "      <td>0</td>\n",
              "      <td>0</td>\n",
              "      <td>0.5</td>\n",
              "      <td>0.3</td>\n",
              "      <td>0.692820</td>\n",
              "      <td>10</td>\n",
              "      <td>1</td>\n",
              "      <td>-1</td>\n",
              "      <td>0</td>\n",
              "      <td>1</td>\n",
              "      <td>1</td>\n",
              "      <td>1</td>\n",
              "      <td>1</td>\n",
              "      <td>0</td>\n",
              "      <td>1</td>\n",
              "      <td>31</td>\n",
              "      <td>3</td>\n",
              "      <td>0.374166</td>\n",
              "      <td>0.684631</td>\n",
              "      <td>0.385487</td>\n",
              "      <td>2.645751</td>\n",
              "      <td>0.4</td>\n",
              "      <td>0.5</td>\n",
              "      <td>0.3</td>\n",
              "      <td>3</td>\n",
              "      <td>0</td>\n",
              "      <td>9</td>\n",
              "      <td>0</td>\n",
              "      <td>9</td>\n",
              "      <td>1</td>\n",
              "      <td>12</td>\n",
              "      <td>4</td>\n",
              "      <td>1</td>\n",
              "      <td>9</td>\n",
              "      <td>6</td>\n",
              "      <td>0</td>\n",
              "      <td>1</td>\n",
              "      <td>1</td>\n",
              "      <td>0</td>\n",
              "      <td>1</td>\n",
              "      <td>1</td>\n",
              "    </tr>\n",
              "    <tr>\n",
              "      <th>595208</th>\n",
              "      <td>1488016</td>\n",
              "      <td>0</td>\n",
              "      <td>5</td>\n",
              "      <td>1</td>\n",
              "      <td>3</td>\n",
              "      <td>0</td>\n",
              "      <td>0</td>\n",
              "      <td>0</td>\n",
              "      <td>0</td>\n",
              "      <td>0</td>\n",
              "      <td>1</td>\n",
              "      <td>0</td>\n",
              "      <td>0</td>\n",
              "      <td>0</td>\n",
              "      <td>0</td>\n",
              "      <td>0</td>\n",
              "      <td>6</td>\n",
              "      <td>1</td>\n",
              "      <td>0</td>\n",
              "      <td>0</td>\n",
              "      <td>0.9</td>\n",
              "      <td>0.7</td>\n",
              "      <td>1.382027</td>\n",
              "      <td>9</td>\n",
              "      <td>1</td>\n",
              "      <td>-1</td>\n",
              "      <td>0</td>\n",
              "      <td>-1</td>\n",
              "      <td>15</td>\n",
              "      <td>0</td>\n",
              "      <td>0</td>\n",
              "      <td>2</td>\n",
              "      <td>1</td>\n",
              "      <td>63</td>\n",
              "      <td>2</td>\n",
              "      <td>0.387298</td>\n",
              "      <td>0.972145</td>\n",
              "      <td>-1.000000</td>\n",
              "      <td>3.605551</td>\n",
              "      <td>0.2</td>\n",
              "      <td>0.2</td>\n",
              "      <td>0.0</td>\n",
              "      <td>2</td>\n",
              "      <td>4</td>\n",
              "      <td>8</td>\n",
              "      <td>6</td>\n",
              "      <td>8</td>\n",
              "      <td>2</td>\n",
              "      <td>12</td>\n",
              "      <td>4</td>\n",
              "      <td>1</td>\n",
              "      <td>3</td>\n",
              "      <td>8</td>\n",
              "      <td>1</td>\n",
              "      <td>0</td>\n",
              "      <td>1</td>\n",
              "      <td>0</td>\n",
              "      <td>1</td>\n",
              "      <td>1</td>\n",
              "    </tr>\n",
              "    <tr>\n",
              "      <th>595209</th>\n",
              "      <td>1488017</td>\n",
              "      <td>0</td>\n",
              "      <td>1</td>\n",
              "      <td>1</td>\n",
              "      <td>10</td>\n",
              "      <td>0</td>\n",
              "      <td>0</td>\n",
              "      <td>1</td>\n",
              "      <td>0</td>\n",
              "      <td>0</td>\n",
              "      <td>0</td>\n",
              "      <td>0</td>\n",
              "      <td>0</td>\n",
              "      <td>0</td>\n",
              "      <td>0</td>\n",
              "      <td>0</td>\n",
              "      <td>12</td>\n",
              "      <td>1</td>\n",
              "      <td>0</td>\n",
              "      <td>0</td>\n",
              "      <td>0.9</td>\n",
              "      <td>0.2</td>\n",
              "      <td>0.659071</td>\n",
              "      <td>7</td>\n",
              "      <td>1</td>\n",
              "      <td>-1</td>\n",
              "      <td>0</td>\n",
              "      <td>-1</td>\n",
              "      <td>1</td>\n",
              "      <td>1</td>\n",
              "      <td>1</td>\n",
              "      <td>2</td>\n",
              "      <td>1</td>\n",
              "      <td>31</td>\n",
              "      <td>3</td>\n",
              "      <td>0.397492</td>\n",
              "      <td>0.596373</td>\n",
              "      <td>0.398748</td>\n",
              "      <td>1.732051</td>\n",
              "      <td>0.4</td>\n",
              "      <td>0.0</td>\n",
              "      <td>0.3</td>\n",
              "      <td>3</td>\n",
              "      <td>2</td>\n",
              "      <td>7</td>\n",
              "      <td>4</td>\n",
              "      <td>8</td>\n",
              "      <td>0</td>\n",
              "      <td>10</td>\n",
              "      <td>3</td>\n",
              "      <td>2</td>\n",
              "      <td>2</td>\n",
              "      <td>6</td>\n",
              "      <td>0</td>\n",
              "      <td>0</td>\n",
              "      <td>1</td>\n",
              "      <td>0</td>\n",
              "      <td>0</td>\n",
              "      <td>0</td>\n",
              "    </tr>\n",
              "    <tr>\n",
              "      <th>595210</th>\n",
              "      <td>1488021</td>\n",
              "      <td>0</td>\n",
              "      <td>5</td>\n",
              "      <td>2</td>\n",
              "      <td>3</td>\n",
              "      <td>1</td>\n",
              "      <td>0</td>\n",
              "      <td>0</td>\n",
              "      <td>0</td>\n",
              "      <td>1</td>\n",
              "      <td>0</td>\n",
              "      <td>0</td>\n",
              "      <td>0</td>\n",
              "      <td>0</td>\n",
              "      <td>0</td>\n",
              "      <td>0</td>\n",
              "      <td>12</td>\n",
              "      <td>1</td>\n",
              "      <td>0</td>\n",
              "      <td>0</td>\n",
              "      <td>0.9</td>\n",
              "      <td>0.4</td>\n",
              "      <td>0.698212</td>\n",
              "      <td>11</td>\n",
              "      <td>1</td>\n",
              "      <td>-1</td>\n",
              "      <td>0</td>\n",
              "      <td>-1</td>\n",
              "      <td>11</td>\n",
              "      <td>1</td>\n",
              "      <td>1</td>\n",
              "      <td>2</td>\n",
              "      <td>1</td>\n",
              "      <td>101</td>\n",
              "      <td>3</td>\n",
              "      <td>0.374166</td>\n",
              "      <td>0.764434</td>\n",
              "      <td>0.384968</td>\n",
              "      <td>3.162278</td>\n",
              "      <td>0.0</td>\n",
              "      <td>0.7</td>\n",
              "      <td>0.0</td>\n",
              "      <td>4</td>\n",
              "      <td>0</td>\n",
              "      <td>9</td>\n",
              "      <td>4</td>\n",
              "      <td>9</td>\n",
              "      <td>2</td>\n",
              "      <td>11</td>\n",
              "      <td>4</td>\n",
              "      <td>1</td>\n",
              "      <td>4</td>\n",
              "      <td>2</td>\n",
              "      <td>0</td>\n",
              "      <td>1</td>\n",
              "      <td>1</td>\n",
              "      <td>1</td>\n",
              "      <td>0</td>\n",
              "      <td>0</td>\n",
              "    </tr>\n",
              "    <tr>\n",
              "      <th>595211</th>\n",
              "      <td>1488027</td>\n",
              "      <td>0</td>\n",
              "      <td>0</td>\n",
              "      <td>1</td>\n",
              "      <td>8</td>\n",
              "      <td>0</td>\n",
              "      <td>0</td>\n",
              "      <td>1</td>\n",
              "      <td>0</td>\n",
              "      <td>0</td>\n",
              "      <td>0</td>\n",
              "      <td>0</td>\n",
              "      <td>0</td>\n",
              "      <td>0</td>\n",
              "      <td>0</td>\n",
              "      <td>0</td>\n",
              "      <td>7</td>\n",
              "      <td>1</td>\n",
              "      <td>0</td>\n",
              "      <td>0</td>\n",
              "      <td>0.1</td>\n",
              "      <td>0.2</td>\n",
              "      <td>-1.000000</td>\n",
              "      <td>7</td>\n",
              "      <td>0</td>\n",
              "      <td>-1</td>\n",
              "      <td>0</td>\n",
              "      <td>-1</td>\n",
              "      <td>0</td>\n",
              "      <td>1</td>\n",
              "      <td>0</td>\n",
              "      <td>2</td>\n",
              "      <td>1</td>\n",
              "      <td>34</td>\n",
              "      <td>2</td>\n",
              "      <td>0.400000</td>\n",
              "      <td>0.932649</td>\n",
              "      <td>0.378021</td>\n",
              "      <td>3.741657</td>\n",
              "      <td>0.4</td>\n",
              "      <td>0.0</td>\n",
              "      <td>0.5</td>\n",
              "      <td>2</td>\n",
              "      <td>3</td>\n",
              "      <td>10</td>\n",
              "      <td>4</td>\n",
              "      <td>10</td>\n",
              "      <td>2</td>\n",
              "      <td>5</td>\n",
              "      <td>4</td>\n",
              "      <td>4</td>\n",
              "      <td>3</td>\n",
              "      <td>8</td>\n",
              "      <td>0</td>\n",
              "      <td>1</td>\n",
              "      <td>0</td>\n",
              "      <td>0</td>\n",
              "      <td>0</td>\n",
              "      <td>0</td>\n",
              "    </tr>\n",
              "  </tbody>\n",
              "</table>\n",
              "</div>"
            ],
            "text/plain": [
              "             id  target  ps_ind_01  ps_ind_02_cat  ps_ind_03  ps_ind_04_cat  \\\n",
              "595207  1488013       0          3              1         10              0   \n",
              "595208  1488016       0          5              1          3              0   \n",
              "595209  1488017       0          1              1         10              0   \n",
              "595210  1488021       0          5              2          3              1   \n",
              "595211  1488027       0          0              1          8              0   \n",
              "\n",
              "        ps_ind_05_cat  ps_ind_06_bin  ps_ind_07_bin  ps_ind_08_bin  \\\n",
              "595207              0              0              0              0   \n",
              "595208              0              0              0              0   \n",
              "595209              0              1              0              0   \n",
              "595210              0              0              0              1   \n",
              "595211              0              1              0              0   \n",
              "\n",
              "        ps_ind_09_bin  ps_ind_10_bin  ps_ind_11_bin  ps_ind_12_bin  \\\n",
              "595207              1              0              0              0   \n",
              "595208              1              0              0              0   \n",
              "595209              0              0              0              0   \n",
              "595210              0              0              0              0   \n",
              "595211              0              0              0              0   \n",
              "\n",
              "        ps_ind_13_bin  ps_ind_14  ps_ind_15  ps_ind_16_bin  ps_ind_17_bin  \\\n",
              "595207              0          0         13              1              0   \n",
              "595208              0          0          6              1              0   \n",
              "595209              0          0         12              1              0   \n",
              "595210              0          0         12              1              0   \n",
              "595211              0          0          7              1              0   \n",
              "\n",
              "        ps_ind_18_bin  ps_reg_01  ps_reg_02  ps_reg_03  ps_car_01_cat  \\\n",
              "595207              0        0.5        0.3   0.692820             10   \n",
              "595208              0        0.9        0.7   1.382027              9   \n",
              "595209              0        0.9        0.2   0.659071              7   \n",
              "595210              0        0.9        0.4   0.698212             11   \n",
              "595211              0        0.1        0.2  -1.000000              7   \n",
              "\n",
              "        ps_car_02_cat  ps_car_03_cat  ps_car_04_cat  ps_car_05_cat  \\\n",
              "595207              1             -1              0              1   \n",
              "595208              1             -1              0             -1   \n",
              "595209              1             -1              0             -1   \n",
              "595210              1             -1              0             -1   \n",
              "595211              0             -1              0             -1   \n",
              "\n",
              "        ps_car_06_cat  ps_car_07_cat  ps_car_08_cat  ps_car_09_cat  \\\n",
              "595207              1              1              1              0   \n",
              "595208             15              0              0              2   \n",
              "595209              1              1              1              2   \n",
              "595210             11              1              1              2   \n",
              "595211              0              1              0              2   \n",
              "\n",
              "        ps_car_10_cat  ps_car_11_cat  ps_car_11  ps_car_12  ps_car_13  \\\n",
              "595207              1             31          3   0.374166   0.684631   \n",
              "595208              1             63          2   0.387298   0.972145   \n",
              "595209              1             31          3   0.397492   0.596373   \n",
              "595210              1            101          3   0.374166   0.764434   \n",
              "595211              1             34          2   0.400000   0.932649   \n",
              "\n",
              "        ps_car_14  ps_car_15  ps_calc_01  ps_calc_02  ps_calc_03  ps_calc_04  \\\n",
              "595207   0.385487   2.645751         0.4         0.5         0.3           3   \n",
              "595208  -1.000000   3.605551         0.2         0.2         0.0           2   \n",
              "595209   0.398748   1.732051         0.4         0.0         0.3           3   \n",
              "595210   0.384968   3.162278         0.0         0.7         0.0           4   \n",
              "595211   0.378021   3.741657         0.4         0.0         0.5           2   \n",
              "\n",
              "        ps_calc_05  ps_calc_06  ps_calc_07  ps_calc_08  ps_calc_09  \\\n",
              "595207           0           9           0           9           1   \n",
              "595208           4           8           6           8           2   \n",
              "595209           2           7           4           8           0   \n",
              "595210           0           9           4           9           2   \n",
              "595211           3          10           4          10           2   \n",
              "\n",
              "        ps_calc_10  ps_calc_11  ps_calc_12  ps_calc_13  ps_calc_14  \\\n",
              "595207          12           4           1           9           6   \n",
              "595208          12           4           1           3           8   \n",
              "595209          10           3           2           2           6   \n",
              "595210          11           4           1           4           2   \n",
              "595211           5           4           4           3           8   \n",
              "\n",
              "        ps_calc_15_bin  ps_calc_16_bin  ps_calc_17_bin  ps_calc_18_bin  \\\n",
              "595207               0               1               1               0   \n",
              "595208               1               0               1               0   \n",
              "595209               0               0               1               0   \n",
              "595210               0               1               1               1   \n",
              "595211               0               1               0               0   \n",
              "\n",
              "        ps_calc_19_bin  ps_calc_20_bin  \n",
              "595207               1               1  \n",
              "595208               1               1  \n",
              "595209               0               0  \n",
              "595210               0               0  \n",
              "595211               0               0  "
            ]
          },
          "metadata": {
            "tags": []
          },
          "execution_count": 4
        }
      ]
    },
    {
      "cell_type": "markdown",
      "metadata": {
        "id": "vE8cNhb9NuOw"
      },
      "source": [
        "우리는 실제로 다음을 본다.\n",
        "- 이진 변수\n",
        "- 범주 값이 정수인 범주형 변수\n",
        "- 정수 또는 부동 값을 가진 기타 변수\n",
        "- 결측값을 나타내는 -1인 변수\n",
        "- 대상 변수 및 ID 변수\n",
        "\n",
        "Train data의 행과 열 수를 살펴보겠다."
      ]
    },
    {
      "cell_type": "code",
      "metadata": {
        "colab": {
          "base_uri": "https://localhost:8080/"
        },
        "id": "PJ7fLkSCNoxV",
        "outputId": "905fde82-8a94-47c3-a158-326848aad48a"
      },
      "source": [
        "train.shape"
      ],
      "execution_count": 5,
      "outputs": [
        {
          "output_type": "execute_result",
          "data": {
            "text/plain": [
              "(595212, 59)"
            ]
          },
          "metadata": {
            "tags": []
          },
          "execution_count": 5
        }
      ]
    },
    {
      "cell_type": "markdown",
      "metadata": {
        "id": "wD3w7lKMN_74"
      },
      "source": [
        "59개의 변수와 595,212개의 행이 있다. Test data에 동일한 수의 변수가 있는지 살펴보겠다.\n",
        "\n",
        "Train data에 중복된 행이 있는지 살펴보겠다."
      ]
    },
    {
      "cell_type": "code",
      "metadata": {
        "colab": {
          "base_uri": "https://localhost:8080/"
        },
        "id": "yDEq95M-N9gm",
        "outputId": "b40b59dd-63f4-4a05-e18a-61b97738892a"
      },
      "source": [
        "train.drop_duplicates()\n",
        "train.shape"
      ],
      "execution_count": 6,
      "outputs": [
        {
          "output_type": "execute_result",
          "data": {
            "text/plain": [
              "(595212, 59)"
            ]
          },
          "metadata": {
            "tags": []
          },
          "execution_count": 6
        }
      ]
    },
    {
      "cell_type": "markdown",
      "metadata": {
        "id": "89HagjJsOVYv"
      },
      "source": [
        "중복 행이 없으므로 괜찮다."
      ]
    },
    {
      "cell_type": "code",
      "metadata": {
        "colab": {
          "base_uri": "https://localhost:8080/"
        },
        "id": "B9CSdvrqOS_R",
        "outputId": "1289edd9-0d48-4c28-db18-edbfcefc1adc"
      },
      "source": [
        "test.shape"
      ],
      "execution_count": 7,
      "outputs": [
        {
          "output_type": "execute_result",
          "data": {
            "text/plain": [
              "(892816, 58)"
            ]
          },
          "metadata": {
            "tags": []
          },
          "execution_count": 7
        }
      ]
    },
    {
      "cell_type": "markdown",
      "metadata": {
        "id": "xtalTe7NOcgM"
      },
      "source": [
        "Test set에서 하나의 변수가 누락되었지만 이것이 대상 변수이다. 그렇기에 괜찮다.<br>\n",
        "이제 우리가 가진 각 유형의 변수 수를 조사해 보겠다.\n",
        "\n",
        "<br>따라서 나중에 14개의 범주형 변수에 대한 dummy 변수를 만들 수 있다. bin 변수는 이미 이진형이며 dummification이 필요하지 않다."
      ]
    },
    {
      "cell_type": "code",
      "metadata": {
        "colab": {
          "base_uri": "https://localhost:8080/"
        },
        "id": "-ubn3GHvOagO",
        "outputId": "f9833b10-9409-4414-f416-690718c067bb"
      },
      "source": [
        "train.info()"
      ],
      "execution_count": 8,
      "outputs": [
        {
          "output_type": "stream",
          "text": [
            "<class 'pandas.core.frame.DataFrame'>\n",
            "RangeIndex: 595212 entries, 0 to 595211\n",
            "Data columns (total 59 columns):\n",
            " #   Column          Non-Null Count   Dtype  \n",
            "---  ------          --------------   -----  \n",
            " 0   id              595212 non-null  int64  \n",
            " 1   target          595212 non-null  int64  \n",
            " 2   ps_ind_01       595212 non-null  int64  \n",
            " 3   ps_ind_02_cat   595212 non-null  int64  \n",
            " 4   ps_ind_03       595212 non-null  int64  \n",
            " 5   ps_ind_04_cat   595212 non-null  int64  \n",
            " 6   ps_ind_05_cat   595212 non-null  int64  \n",
            " 7   ps_ind_06_bin   595212 non-null  int64  \n",
            " 8   ps_ind_07_bin   595212 non-null  int64  \n",
            " 9   ps_ind_08_bin   595212 non-null  int64  \n",
            " 10  ps_ind_09_bin   595212 non-null  int64  \n",
            " 11  ps_ind_10_bin   595212 non-null  int64  \n",
            " 12  ps_ind_11_bin   595212 non-null  int64  \n",
            " 13  ps_ind_12_bin   595212 non-null  int64  \n",
            " 14  ps_ind_13_bin   595212 non-null  int64  \n",
            " 15  ps_ind_14       595212 non-null  int64  \n",
            " 16  ps_ind_15       595212 non-null  int64  \n",
            " 17  ps_ind_16_bin   595212 non-null  int64  \n",
            " 18  ps_ind_17_bin   595212 non-null  int64  \n",
            " 19  ps_ind_18_bin   595212 non-null  int64  \n",
            " 20  ps_reg_01       595212 non-null  float64\n",
            " 21  ps_reg_02       595212 non-null  float64\n",
            " 22  ps_reg_03       595212 non-null  float64\n",
            " 23  ps_car_01_cat   595212 non-null  int64  \n",
            " 24  ps_car_02_cat   595212 non-null  int64  \n",
            " 25  ps_car_03_cat   595212 non-null  int64  \n",
            " 26  ps_car_04_cat   595212 non-null  int64  \n",
            " 27  ps_car_05_cat   595212 non-null  int64  \n",
            " 28  ps_car_06_cat   595212 non-null  int64  \n",
            " 29  ps_car_07_cat   595212 non-null  int64  \n",
            " 30  ps_car_08_cat   595212 non-null  int64  \n",
            " 31  ps_car_09_cat   595212 non-null  int64  \n",
            " 32  ps_car_10_cat   595212 non-null  int64  \n",
            " 33  ps_car_11_cat   595212 non-null  int64  \n",
            " 34  ps_car_11       595212 non-null  int64  \n",
            " 35  ps_car_12       595212 non-null  float64\n",
            " 36  ps_car_13       595212 non-null  float64\n",
            " 37  ps_car_14       595212 non-null  float64\n",
            " 38  ps_car_15       595212 non-null  float64\n",
            " 39  ps_calc_01      595212 non-null  float64\n",
            " 40  ps_calc_02      595212 non-null  float64\n",
            " 41  ps_calc_03      595212 non-null  float64\n",
            " 42  ps_calc_04      595212 non-null  int64  \n",
            " 43  ps_calc_05      595212 non-null  int64  \n",
            " 44  ps_calc_06      595212 non-null  int64  \n",
            " 45  ps_calc_07      595212 non-null  int64  \n",
            " 46  ps_calc_08      595212 non-null  int64  \n",
            " 47  ps_calc_09      595212 non-null  int64  \n",
            " 48  ps_calc_10      595212 non-null  int64  \n",
            " 49  ps_calc_11      595212 non-null  int64  \n",
            " 50  ps_calc_12      595212 non-null  int64  \n",
            " 51  ps_calc_13      595212 non-null  int64  \n",
            " 52  ps_calc_14      595212 non-null  int64  \n",
            " 53  ps_calc_15_bin  595212 non-null  int64  \n",
            " 54  ps_calc_16_bin  595212 non-null  int64  \n",
            " 55  ps_calc_17_bin  595212 non-null  int64  \n",
            " 56  ps_calc_18_bin  595212 non-null  int64  \n",
            " 57  ps_calc_19_bin  595212 non-null  int64  \n",
            " 58  ps_calc_20_bin  595212 non-null  int64  \n",
            "dtypes: float64(10), int64(49)\n",
            "memory usage: 267.9 MB\n"
          ],
          "name": "stdout"
        }
      ]
    },
    {
      "cell_type": "markdown",
      "metadata": {
        "id": "MNCNrg9mPB_T"
      },
      "source": [
        "다시 `info()` method를 사용하면 데이터 유형이 정수 또는 부동 소수점임을 알 수 있다. Dataset에 null 값이 없다. 누락된 값이 -1로 바뀌기 때문에 이는 정상이다. 나중에 살펴보도록 하자."
      ]
    },
    {
      "cell_type": "markdown",
      "metadata": {
        "id": "u4efkVY-PQOs"
      },
      "source": [
        "#**2.Defining the metadata**"
      ]
    },
    {
      "cell_type": "markdown",
      "metadata": {
        "id": "y9SURUZcPX8Q"
      },
      "source": [
        "##**Metadata**<br>\n",
        "데이터 관리를 용이하게 하기 위해 변수에 대한 meta 정보를 DataFrame에 저장한다. 이는 분석, 시각화, 모델링 등을 위해 특정 변수를 선택하려는 경우에 유용하다.<br>\n",
        "\n",
        "구체적으로 다음을 저장한다.\n",
        "- **role(역할)** : input, ID, target\n",
        "- **level(수준)** : nominal, interval, ordinal, binary\n",
        "- **keep(유지)** : True or False\n",
        "- **dtype** : int, float, str"
      ]
    },
    {
      "cell_type": "code",
      "metadata": {
        "id": "VfKWm1sSO8Ua"
      },
      "source": [
        "data = []\n",
        "for f in train.columns:\n",
        "  # Defining the role\n",
        "  if f == 'target':\n",
        "    role = 'target'\n",
        "  elif f == 'id':\n",
        "    role = 'id'\n",
        "  else:\n",
        "    role = 'input'\n",
        "  \n",
        "  # Defining the level\n",
        "  if 'bin' in f or f == 'target':\n",
        "    level = 'binary'\n",
        "  elif 'cat' in f or f == 'id':\n",
        "    level = 'nominal'\n",
        "  elif train[f].dtype == float:\n",
        "    level = 'interval'\n",
        "  elif train[f].dtype == int:\n",
        "    level = 'ordinal'\n",
        "\n",
        "  # Initialize keep to True for all variables except for id\n",
        "  keep = True\n",
        "  if f == 'id':\n",
        "    keep = False\n",
        "  \n",
        "  # Defining the data type\n",
        "  dtype = train[f].dtype\n",
        "\n",
        "  # Creating a Dict that contains all the metadata for the variable\n",
        "  f_dict = {\n",
        "      'varname' : f,\n",
        "      'role' : role,\n",
        "      'level' : level,\n",
        "      'keep' : keep,\n",
        "      'dtype' : dtype\n",
        "  }\n",
        "  data.append(f_dict)\n",
        "\n",
        "meta = pd.DataFrame(data, columns=['varname', 'role', 'level', 'keep', 'dtype'])\n",
        "meta.set_index('varname', inplace=True)"
      ],
      "execution_count": 9,
      "outputs": []
    },
    {
      "cell_type": "code",
      "metadata": {
        "colab": {
          "base_uri": "https://localhost:8080/",
          "height": 1000
        },
        "id": "XfvzGrisRXci",
        "outputId": "c9ce91fd-9fae-4933-ed67-b734f2ff2695"
      },
      "source": [
        "meta"
      ],
      "execution_count": 10,
      "outputs": [
        {
          "output_type": "execute_result",
          "data": {
            "text/html": [
              "<div>\n",
              "<style scoped>\n",
              "    .dataframe tbody tr th:only-of-type {\n",
              "        vertical-align: middle;\n",
              "    }\n",
              "\n",
              "    .dataframe tbody tr th {\n",
              "        vertical-align: top;\n",
              "    }\n",
              "\n",
              "    .dataframe thead th {\n",
              "        text-align: right;\n",
              "    }\n",
              "</style>\n",
              "<table border=\"1\" class=\"dataframe\">\n",
              "  <thead>\n",
              "    <tr style=\"text-align: right;\">\n",
              "      <th></th>\n",
              "      <th>role</th>\n",
              "      <th>level</th>\n",
              "      <th>keep</th>\n",
              "      <th>dtype</th>\n",
              "    </tr>\n",
              "    <tr>\n",
              "      <th>varname</th>\n",
              "      <th></th>\n",
              "      <th></th>\n",
              "      <th></th>\n",
              "      <th></th>\n",
              "    </tr>\n",
              "  </thead>\n",
              "  <tbody>\n",
              "    <tr>\n",
              "      <th>id</th>\n",
              "      <td>id</td>\n",
              "      <td>nominal</td>\n",
              "      <td>False</td>\n",
              "      <td>int64</td>\n",
              "    </tr>\n",
              "    <tr>\n",
              "      <th>target</th>\n",
              "      <td>target</td>\n",
              "      <td>binary</td>\n",
              "      <td>True</td>\n",
              "      <td>int64</td>\n",
              "    </tr>\n",
              "    <tr>\n",
              "      <th>ps_ind_01</th>\n",
              "      <td>input</td>\n",
              "      <td>ordinal</td>\n",
              "      <td>True</td>\n",
              "      <td>int64</td>\n",
              "    </tr>\n",
              "    <tr>\n",
              "      <th>ps_ind_02_cat</th>\n",
              "      <td>input</td>\n",
              "      <td>nominal</td>\n",
              "      <td>True</td>\n",
              "      <td>int64</td>\n",
              "    </tr>\n",
              "    <tr>\n",
              "      <th>ps_ind_03</th>\n",
              "      <td>input</td>\n",
              "      <td>ordinal</td>\n",
              "      <td>True</td>\n",
              "      <td>int64</td>\n",
              "    </tr>\n",
              "    <tr>\n",
              "      <th>ps_ind_04_cat</th>\n",
              "      <td>input</td>\n",
              "      <td>nominal</td>\n",
              "      <td>True</td>\n",
              "      <td>int64</td>\n",
              "    </tr>\n",
              "    <tr>\n",
              "      <th>ps_ind_05_cat</th>\n",
              "      <td>input</td>\n",
              "      <td>nominal</td>\n",
              "      <td>True</td>\n",
              "      <td>int64</td>\n",
              "    </tr>\n",
              "    <tr>\n",
              "      <th>ps_ind_06_bin</th>\n",
              "      <td>input</td>\n",
              "      <td>binary</td>\n",
              "      <td>True</td>\n",
              "      <td>int64</td>\n",
              "    </tr>\n",
              "    <tr>\n",
              "      <th>ps_ind_07_bin</th>\n",
              "      <td>input</td>\n",
              "      <td>binary</td>\n",
              "      <td>True</td>\n",
              "      <td>int64</td>\n",
              "    </tr>\n",
              "    <tr>\n",
              "      <th>ps_ind_08_bin</th>\n",
              "      <td>input</td>\n",
              "      <td>binary</td>\n",
              "      <td>True</td>\n",
              "      <td>int64</td>\n",
              "    </tr>\n",
              "    <tr>\n",
              "      <th>ps_ind_09_bin</th>\n",
              "      <td>input</td>\n",
              "      <td>binary</td>\n",
              "      <td>True</td>\n",
              "      <td>int64</td>\n",
              "    </tr>\n",
              "    <tr>\n",
              "      <th>ps_ind_10_bin</th>\n",
              "      <td>input</td>\n",
              "      <td>binary</td>\n",
              "      <td>True</td>\n",
              "      <td>int64</td>\n",
              "    </tr>\n",
              "    <tr>\n",
              "      <th>ps_ind_11_bin</th>\n",
              "      <td>input</td>\n",
              "      <td>binary</td>\n",
              "      <td>True</td>\n",
              "      <td>int64</td>\n",
              "    </tr>\n",
              "    <tr>\n",
              "      <th>ps_ind_12_bin</th>\n",
              "      <td>input</td>\n",
              "      <td>binary</td>\n",
              "      <td>True</td>\n",
              "      <td>int64</td>\n",
              "    </tr>\n",
              "    <tr>\n",
              "      <th>ps_ind_13_bin</th>\n",
              "      <td>input</td>\n",
              "      <td>binary</td>\n",
              "      <td>True</td>\n",
              "      <td>int64</td>\n",
              "    </tr>\n",
              "    <tr>\n",
              "      <th>ps_ind_14</th>\n",
              "      <td>input</td>\n",
              "      <td>ordinal</td>\n",
              "      <td>True</td>\n",
              "      <td>int64</td>\n",
              "    </tr>\n",
              "    <tr>\n",
              "      <th>ps_ind_15</th>\n",
              "      <td>input</td>\n",
              "      <td>ordinal</td>\n",
              "      <td>True</td>\n",
              "      <td>int64</td>\n",
              "    </tr>\n",
              "    <tr>\n",
              "      <th>ps_ind_16_bin</th>\n",
              "      <td>input</td>\n",
              "      <td>binary</td>\n",
              "      <td>True</td>\n",
              "      <td>int64</td>\n",
              "    </tr>\n",
              "    <tr>\n",
              "      <th>ps_ind_17_bin</th>\n",
              "      <td>input</td>\n",
              "      <td>binary</td>\n",
              "      <td>True</td>\n",
              "      <td>int64</td>\n",
              "    </tr>\n",
              "    <tr>\n",
              "      <th>ps_ind_18_bin</th>\n",
              "      <td>input</td>\n",
              "      <td>binary</td>\n",
              "      <td>True</td>\n",
              "      <td>int64</td>\n",
              "    </tr>\n",
              "    <tr>\n",
              "      <th>ps_reg_01</th>\n",
              "      <td>input</td>\n",
              "      <td>interval</td>\n",
              "      <td>True</td>\n",
              "      <td>float64</td>\n",
              "    </tr>\n",
              "    <tr>\n",
              "      <th>ps_reg_02</th>\n",
              "      <td>input</td>\n",
              "      <td>interval</td>\n",
              "      <td>True</td>\n",
              "      <td>float64</td>\n",
              "    </tr>\n",
              "    <tr>\n",
              "      <th>ps_reg_03</th>\n",
              "      <td>input</td>\n",
              "      <td>interval</td>\n",
              "      <td>True</td>\n",
              "      <td>float64</td>\n",
              "    </tr>\n",
              "    <tr>\n",
              "      <th>ps_car_01_cat</th>\n",
              "      <td>input</td>\n",
              "      <td>nominal</td>\n",
              "      <td>True</td>\n",
              "      <td>int64</td>\n",
              "    </tr>\n",
              "    <tr>\n",
              "      <th>ps_car_02_cat</th>\n",
              "      <td>input</td>\n",
              "      <td>nominal</td>\n",
              "      <td>True</td>\n",
              "      <td>int64</td>\n",
              "    </tr>\n",
              "    <tr>\n",
              "      <th>ps_car_03_cat</th>\n",
              "      <td>input</td>\n",
              "      <td>nominal</td>\n",
              "      <td>True</td>\n",
              "      <td>int64</td>\n",
              "    </tr>\n",
              "    <tr>\n",
              "      <th>ps_car_04_cat</th>\n",
              "      <td>input</td>\n",
              "      <td>nominal</td>\n",
              "      <td>True</td>\n",
              "      <td>int64</td>\n",
              "    </tr>\n",
              "    <tr>\n",
              "      <th>ps_car_05_cat</th>\n",
              "      <td>input</td>\n",
              "      <td>nominal</td>\n",
              "      <td>True</td>\n",
              "      <td>int64</td>\n",
              "    </tr>\n",
              "    <tr>\n",
              "      <th>ps_car_06_cat</th>\n",
              "      <td>input</td>\n",
              "      <td>nominal</td>\n",
              "      <td>True</td>\n",
              "      <td>int64</td>\n",
              "    </tr>\n",
              "    <tr>\n",
              "      <th>ps_car_07_cat</th>\n",
              "      <td>input</td>\n",
              "      <td>nominal</td>\n",
              "      <td>True</td>\n",
              "      <td>int64</td>\n",
              "    </tr>\n",
              "    <tr>\n",
              "      <th>ps_car_08_cat</th>\n",
              "      <td>input</td>\n",
              "      <td>nominal</td>\n",
              "      <td>True</td>\n",
              "      <td>int64</td>\n",
              "    </tr>\n",
              "    <tr>\n",
              "      <th>ps_car_09_cat</th>\n",
              "      <td>input</td>\n",
              "      <td>nominal</td>\n",
              "      <td>True</td>\n",
              "      <td>int64</td>\n",
              "    </tr>\n",
              "    <tr>\n",
              "      <th>ps_car_10_cat</th>\n",
              "      <td>input</td>\n",
              "      <td>nominal</td>\n",
              "      <td>True</td>\n",
              "      <td>int64</td>\n",
              "    </tr>\n",
              "    <tr>\n",
              "      <th>ps_car_11_cat</th>\n",
              "      <td>input</td>\n",
              "      <td>nominal</td>\n",
              "      <td>True</td>\n",
              "      <td>int64</td>\n",
              "    </tr>\n",
              "    <tr>\n",
              "      <th>ps_car_11</th>\n",
              "      <td>input</td>\n",
              "      <td>ordinal</td>\n",
              "      <td>True</td>\n",
              "      <td>int64</td>\n",
              "    </tr>\n",
              "    <tr>\n",
              "      <th>ps_car_12</th>\n",
              "      <td>input</td>\n",
              "      <td>interval</td>\n",
              "      <td>True</td>\n",
              "      <td>float64</td>\n",
              "    </tr>\n",
              "    <tr>\n",
              "      <th>ps_car_13</th>\n",
              "      <td>input</td>\n",
              "      <td>interval</td>\n",
              "      <td>True</td>\n",
              "      <td>float64</td>\n",
              "    </tr>\n",
              "    <tr>\n",
              "      <th>ps_car_14</th>\n",
              "      <td>input</td>\n",
              "      <td>interval</td>\n",
              "      <td>True</td>\n",
              "      <td>float64</td>\n",
              "    </tr>\n",
              "    <tr>\n",
              "      <th>ps_car_15</th>\n",
              "      <td>input</td>\n",
              "      <td>interval</td>\n",
              "      <td>True</td>\n",
              "      <td>float64</td>\n",
              "    </tr>\n",
              "    <tr>\n",
              "      <th>ps_calc_01</th>\n",
              "      <td>input</td>\n",
              "      <td>interval</td>\n",
              "      <td>True</td>\n",
              "      <td>float64</td>\n",
              "    </tr>\n",
              "    <tr>\n",
              "      <th>ps_calc_02</th>\n",
              "      <td>input</td>\n",
              "      <td>interval</td>\n",
              "      <td>True</td>\n",
              "      <td>float64</td>\n",
              "    </tr>\n",
              "    <tr>\n",
              "      <th>ps_calc_03</th>\n",
              "      <td>input</td>\n",
              "      <td>interval</td>\n",
              "      <td>True</td>\n",
              "      <td>float64</td>\n",
              "    </tr>\n",
              "    <tr>\n",
              "      <th>ps_calc_04</th>\n",
              "      <td>input</td>\n",
              "      <td>ordinal</td>\n",
              "      <td>True</td>\n",
              "      <td>int64</td>\n",
              "    </tr>\n",
              "    <tr>\n",
              "      <th>ps_calc_05</th>\n",
              "      <td>input</td>\n",
              "      <td>ordinal</td>\n",
              "      <td>True</td>\n",
              "      <td>int64</td>\n",
              "    </tr>\n",
              "    <tr>\n",
              "      <th>ps_calc_06</th>\n",
              "      <td>input</td>\n",
              "      <td>ordinal</td>\n",
              "      <td>True</td>\n",
              "      <td>int64</td>\n",
              "    </tr>\n",
              "    <tr>\n",
              "      <th>ps_calc_07</th>\n",
              "      <td>input</td>\n",
              "      <td>ordinal</td>\n",
              "      <td>True</td>\n",
              "      <td>int64</td>\n",
              "    </tr>\n",
              "    <tr>\n",
              "      <th>ps_calc_08</th>\n",
              "      <td>input</td>\n",
              "      <td>ordinal</td>\n",
              "      <td>True</td>\n",
              "      <td>int64</td>\n",
              "    </tr>\n",
              "    <tr>\n",
              "      <th>ps_calc_09</th>\n",
              "      <td>input</td>\n",
              "      <td>ordinal</td>\n",
              "      <td>True</td>\n",
              "      <td>int64</td>\n",
              "    </tr>\n",
              "    <tr>\n",
              "      <th>ps_calc_10</th>\n",
              "      <td>input</td>\n",
              "      <td>ordinal</td>\n",
              "      <td>True</td>\n",
              "      <td>int64</td>\n",
              "    </tr>\n",
              "    <tr>\n",
              "      <th>ps_calc_11</th>\n",
              "      <td>input</td>\n",
              "      <td>ordinal</td>\n",
              "      <td>True</td>\n",
              "      <td>int64</td>\n",
              "    </tr>\n",
              "    <tr>\n",
              "      <th>ps_calc_12</th>\n",
              "      <td>input</td>\n",
              "      <td>ordinal</td>\n",
              "      <td>True</td>\n",
              "      <td>int64</td>\n",
              "    </tr>\n",
              "    <tr>\n",
              "      <th>ps_calc_13</th>\n",
              "      <td>input</td>\n",
              "      <td>ordinal</td>\n",
              "      <td>True</td>\n",
              "      <td>int64</td>\n",
              "    </tr>\n",
              "    <tr>\n",
              "      <th>ps_calc_14</th>\n",
              "      <td>input</td>\n",
              "      <td>ordinal</td>\n",
              "      <td>True</td>\n",
              "      <td>int64</td>\n",
              "    </tr>\n",
              "    <tr>\n",
              "      <th>ps_calc_15_bin</th>\n",
              "      <td>input</td>\n",
              "      <td>binary</td>\n",
              "      <td>True</td>\n",
              "      <td>int64</td>\n",
              "    </tr>\n",
              "    <tr>\n",
              "      <th>ps_calc_16_bin</th>\n",
              "      <td>input</td>\n",
              "      <td>binary</td>\n",
              "      <td>True</td>\n",
              "      <td>int64</td>\n",
              "    </tr>\n",
              "    <tr>\n",
              "      <th>ps_calc_17_bin</th>\n",
              "      <td>input</td>\n",
              "      <td>binary</td>\n",
              "      <td>True</td>\n",
              "      <td>int64</td>\n",
              "    </tr>\n",
              "    <tr>\n",
              "      <th>ps_calc_18_bin</th>\n",
              "      <td>input</td>\n",
              "      <td>binary</td>\n",
              "      <td>True</td>\n",
              "      <td>int64</td>\n",
              "    </tr>\n",
              "    <tr>\n",
              "      <th>ps_calc_19_bin</th>\n",
              "      <td>input</td>\n",
              "      <td>binary</td>\n",
              "      <td>True</td>\n",
              "      <td>int64</td>\n",
              "    </tr>\n",
              "    <tr>\n",
              "      <th>ps_calc_20_bin</th>\n",
              "      <td>input</td>\n",
              "      <td>binary</td>\n",
              "      <td>True</td>\n",
              "      <td>int64</td>\n",
              "    </tr>\n",
              "  </tbody>\n",
              "</table>\n",
              "</div>"
            ],
            "text/plain": [
              "                  role     level   keep    dtype\n",
              "varname                                         \n",
              "id                  id   nominal  False    int64\n",
              "target          target    binary   True    int64\n",
              "ps_ind_01        input   ordinal   True    int64\n",
              "ps_ind_02_cat    input   nominal   True    int64\n",
              "ps_ind_03        input   ordinal   True    int64\n",
              "ps_ind_04_cat    input   nominal   True    int64\n",
              "ps_ind_05_cat    input   nominal   True    int64\n",
              "ps_ind_06_bin    input    binary   True    int64\n",
              "ps_ind_07_bin    input    binary   True    int64\n",
              "ps_ind_08_bin    input    binary   True    int64\n",
              "ps_ind_09_bin    input    binary   True    int64\n",
              "ps_ind_10_bin    input    binary   True    int64\n",
              "ps_ind_11_bin    input    binary   True    int64\n",
              "ps_ind_12_bin    input    binary   True    int64\n",
              "ps_ind_13_bin    input    binary   True    int64\n",
              "ps_ind_14        input   ordinal   True    int64\n",
              "ps_ind_15        input   ordinal   True    int64\n",
              "ps_ind_16_bin    input    binary   True    int64\n",
              "ps_ind_17_bin    input    binary   True    int64\n",
              "ps_ind_18_bin    input    binary   True    int64\n",
              "ps_reg_01        input  interval   True  float64\n",
              "ps_reg_02        input  interval   True  float64\n",
              "ps_reg_03        input  interval   True  float64\n",
              "ps_car_01_cat    input   nominal   True    int64\n",
              "ps_car_02_cat    input   nominal   True    int64\n",
              "ps_car_03_cat    input   nominal   True    int64\n",
              "ps_car_04_cat    input   nominal   True    int64\n",
              "ps_car_05_cat    input   nominal   True    int64\n",
              "ps_car_06_cat    input   nominal   True    int64\n",
              "ps_car_07_cat    input   nominal   True    int64\n",
              "ps_car_08_cat    input   nominal   True    int64\n",
              "ps_car_09_cat    input   nominal   True    int64\n",
              "ps_car_10_cat    input   nominal   True    int64\n",
              "ps_car_11_cat    input   nominal   True    int64\n",
              "ps_car_11        input   ordinal   True    int64\n",
              "ps_car_12        input  interval   True  float64\n",
              "ps_car_13        input  interval   True  float64\n",
              "ps_car_14        input  interval   True  float64\n",
              "ps_car_15        input  interval   True  float64\n",
              "ps_calc_01       input  interval   True  float64\n",
              "ps_calc_02       input  interval   True  float64\n",
              "ps_calc_03       input  interval   True  float64\n",
              "ps_calc_04       input   ordinal   True    int64\n",
              "ps_calc_05       input   ordinal   True    int64\n",
              "ps_calc_06       input   ordinal   True    int64\n",
              "ps_calc_07       input   ordinal   True    int64\n",
              "ps_calc_08       input   ordinal   True    int64\n",
              "ps_calc_09       input   ordinal   True    int64\n",
              "ps_calc_10       input   ordinal   True    int64\n",
              "ps_calc_11       input   ordinal   True    int64\n",
              "ps_calc_12       input   ordinal   True    int64\n",
              "ps_calc_13       input   ordinal   True    int64\n",
              "ps_calc_14       input   ordinal   True    int64\n",
              "ps_calc_15_bin   input    binary   True    int64\n",
              "ps_calc_16_bin   input    binary   True    int64\n",
              "ps_calc_17_bin   input    binary   True    int64\n",
              "ps_calc_18_bin   input    binary   True    int64\n",
              "ps_calc_19_bin   input    binary   True    int64\n",
              "ps_calc_20_bin   input    binary   True    int64"
            ]
          },
          "metadata": {
            "tags": []
          },
          "execution_count": 10
        }
      ]
    },
    {
      "cell_type": "markdown",
      "metadata": {
        "id": "Sd0BGfGfRf7Z"
      },
      "source": [
        "삭제되지 않은 모든 nominal 변수를 추출하는 예"
      ]
    },
    {
      "cell_type": "code",
      "metadata": {
        "colab": {
          "base_uri": "https://localhost:8080/"
        },
        "id": "AsxWHjTERbm9",
        "outputId": "e346cde2-d081-4bd6-ab8e-31e713c5b7d6"
      },
      "source": [
        "meta[(meta.level == 'nominal') & (meta.keep)].index"
      ],
      "execution_count": 11,
      "outputs": [
        {
          "output_type": "execute_result",
          "data": {
            "text/plain": [
              "Index(['ps_ind_02_cat', 'ps_ind_04_cat', 'ps_ind_05_cat', 'ps_car_01_cat',\n",
              "       'ps_car_02_cat', 'ps_car_03_cat', 'ps_car_04_cat', 'ps_car_05_cat',\n",
              "       'ps_car_06_cat', 'ps_car_07_cat', 'ps_car_08_cat', 'ps_car_09_cat',\n",
              "       'ps_car_10_cat', 'ps_car_11_cat'],\n",
              "      dtype='object', name='varname')"
            ]
          },
          "metadata": {
            "tags": []
          },
          "execution_count": 11
        }
      ]
    },
    {
      "cell_type": "markdown",
      "metadata": {
        "id": "6ucOiFGfRyDe"
      },
      "source": [
        "아래에 role 및 level별 변수 수가 표시된다."
      ]
    },
    {
      "cell_type": "code",
      "metadata": {
        "colab": {
          "base_uri": "https://localhost:8080/",
          "height": 225
        },
        "id": "YXbCwmLTRso0",
        "outputId": "524d90c0-95ae-4a2a-e2bc-d5fd978ae545"
      },
      "source": [
        "pd.DataFrame({'count' : meta.groupby(['role', 'level'])['role'].size()}).reset_index()"
      ],
      "execution_count": 12,
      "outputs": [
        {
          "output_type": "execute_result",
          "data": {
            "text/html": [
              "<div>\n",
              "<style scoped>\n",
              "    .dataframe tbody tr th:only-of-type {\n",
              "        vertical-align: middle;\n",
              "    }\n",
              "\n",
              "    .dataframe tbody tr th {\n",
              "        vertical-align: top;\n",
              "    }\n",
              "\n",
              "    .dataframe thead th {\n",
              "        text-align: right;\n",
              "    }\n",
              "</style>\n",
              "<table border=\"1\" class=\"dataframe\">\n",
              "  <thead>\n",
              "    <tr style=\"text-align: right;\">\n",
              "      <th></th>\n",
              "      <th>role</th>\n",
              "      <th>level</th>\n",
              "      <th>count</th>\n",
              "    </tr>\n",
              "  </thead>\n",
              "  <tbody>\n",
              "    <tr>\n",
              "      <th>0</th>\n",
              "      <td>id</td>\n",
              "      <td>nominal</td>\n",
              "      <td>1</td>\n",
              "    </tr>\n",
              "    <tr>\n",
              "      <th>1</th>\n",
              "      <td>input</td>\n",
              "      <td>binary</td>\n",
              "      <td>17</td>\n",
              "    </tr>\n",
              "    <tr>\n",
              "      <th>2</th>\n",
              "      <td>input</td>\n",
              "      <td>interval</td>\n",
              "      <td>10</td>\n",
              "    </tr>\n",
              "    <tr>\n",
              "      <th>3</th>\n",
              "      <td>input</td>\n",
              "      <td>nominal</td>\n",
              "      <td>14</td>\n",
              "    </tr>\n",
              "    <tr>\n",
              "      <th>4</th>\n",
              "      <td>input</td>\n",
              "      <td>ordinal</td>\n",
              "      <td>16</td>\n",
              "    </tr>\n",
              "    <tr>\n",
              "      <th>5</th>\n",
              "      <td>target</td>\n",
              "      <td>binary</td>\n",
              "      <td>1</td>\n",
              "    </tr>\n",
              "  </tbody>\n",
              "</table>\n",
              "</div>"
            ],
            "text/plain": [
              "     role     level  count\n",
              "0      id   nominal      1\n",
              "1   input    binary     17\n",
              "2   input  interval     10\n",
              "3   input   nominal     14\n",
              "4   input   ordinal     16\n",
              "5  target    binary      1"
            ]
          },
          "metadata": {
            "tags": []
          },
          "execution_count": 12
        }
      ]
    },
    {
      "cell_type": "markdown",
      "metadata": {
        "id": "84C4XIjzSJe5"
      },
      "source": [
        "#**3. Descriptive statistics**<br>\n",
        "데이터 프레임에 `describe` method를 적용할 수도 있다. 그러나 범주형 변수와 id 변수에서 평균, 표준편차, ... 를 계산하는 것은 의미가 없다. 나중에 범주형 변수를 시각적으로 살펴보겠다.<br>\n",
        "\n",
        "Meta 파일 덕분에 기술 통계를 계산할 변수를 쉽게 선택할 수 있다. 명확하게 하기 위해 데이터 유형별로 이 작업을 수행한다."
      ]
    },
    {
      "cell_type": "markdown",
      "metadata": {
        "id": "_VVlx2nDSs_7"
      },
      "source": [
        "##**3.1 Interval variables**"
      ]
    },
    {
      "cell_type": "code",
      "metadata": {
        "colab": {
          "base_uri": "https://localhost:8080/",
          "height": 304
        },
        "id": "RmKTV1IASCvm",
        "outputId": "65c12587-e63a-4cdb-e7bb-8f805382b48b"
      },
      "source": [
        "v = meta[(meta.level == 'interval') & (meta.keep)].index\n",
        "train[v].describe()"
      ],
      "execution_count": 13,
      "outputs": [
        {
          "output_type": "execute_result",
          "data": {
            "text/html": [
              "<div>\n",
              "<style scoped>\n",
              "    .dataframe tbody tr th:only-of-type {\n",
              "        vertical-align: middle;\n",
              "    }\n",
              "\n",
              "    .dataframe tbody tr th {\n",
              "        vertical-align: top;\n",
              "    }\n",
              "\n",
              "    .dataframe thead th {\n",
              "        text-align: right;\n",
              "    }\n",
              "</style>\n",
              "<table border=\"1\" class=\"dataframe\">\n",
              "  <thead>\n",
              "    <tr style=\"text-align: right;\">\n",
              "      <th></th>\n",
              "      <th>ps_reg_01</th>\n",
              "      <th>ps_reg_02</th>\n",
              "      <th>ps_reg_03</th>\n",
              "      <th>ps_car_12</th>\n",
              "      <th>ps_car_13</th>\n",
              "      <th>ps_car_14</th>\n",
              "      <th>ps_car_15</th>\n",
              "      <th>ps_calc_01</th>\n",
              "      <th>ps_calc_02</th>\n",
              "      <th>ps_calc_03</th>\n",
              "    </tr>\n",
              "  </thead>\n",
              "  <tbody>\n",
              "    <tr>\n",
              "      <th>count</th>\n",
              "      <td>595212.000000</td>\n",
              "      <td>595212.000000</td>\n",
              "      <td>595212.000000</td>\n",
              "      <td>595212.000000</td>\n",
              "      <td>595212.000000</td>\n",
              "      <td>595212.000000</td>\n",
              "      <td>595212.000000</td>\n",
              "      <td>595212.000000</td>\n",
              "      <td>595212.000000</td>\n",
              "      <td>595212.000000</td>\n",
              "    </tr>\n",
              "    <tr>\n",
              "      <th>mean</th>\n",
              "      <td>0.610991</td>\n",
              "      <td>0.439184</td>\n",
              "      <td>0.551102</td>\n",
              "      <td>0.379945</td>\n",
              "      <td>0.813265</td>\n",
              "      <td>0.276256</td>\n",
              "      <td>3.065899</td>\n",
              "      <td>0.449756</td>\n",
              "      <td>0.449589</td>\n",
              "      <td>0.449849</td>\n",
              "    </tr>\n",
              "    <tr>\n",
              "      <th>std</th>\n",
              "      <td>0.287643</td>\n",
              "      <td>0.404264</td>\n",
              "      <td>0.793506</td>\n",
              "      <td>0.058327</td>\n",
              "      <td>0.224588</td>\n",
              "      <td>0.357154</td>\n",
              "      <td>0.731366</td>\n",
              "      <td>0.287198</td>\n",
              "      <td>0.286893</td>\n",
              "      <td>0.287153</td>\n",
              "    </tr>\n",
              "    <tr>\n",
              "      <th>min</th>\n",
              "      <td>0.000000</td>\n",
              "      <td>0.000000</td>\n",
              "      <td>-1.000000</td>\n",
              "      <td>-1.000000</td>\n",
              "      <td>0.250619</td>\n",
              "      <td>-1.000000</td>\n",
              "      <td>0.000000</td>\n",
              "      <td>0.000000</td>\n",
              "      <td>0.000000</td>\n",
              "      <td>0.000000</td>\n",
              "    </tr>\n",
              "    <tr>\n",
              "      <th>25%</th>\n",
              "      <td>0.400000</td>\n",
              "      <td>0.200000</td>\n",
              "      <td>0.525000</td>\n",
              "      <td>0.316228</td>\n",
              "      <td>0.670867</td>\n",
              "      <td>0.333167</td>\n",
              "      <td>2.828427</td>\n",
              "      <td>0.200000</td>\n",
              "      <td>0.200000</td>\n",
              "      <td>0.200000</td>\n",
              "    </tr>\n",
              "    <tr>\n",
              "      <th>50%</th>\n",
              "      <td>0.700000</td>\n",
              "      <td>0.300000</td>\n",
              "      <td>0.720677</td>\n",
              "      <td>0.374166</td>\n",
              "      <td>0.765811</td>\n",
              "      <td>0.368782</td>\n",
              "      <td>3.316625</td>\n",
              "      <td>0.500000</td>\n",
              "      <td>0.400000</td>\n",
              "      <td>0.500000</td>\n",
              "    </tr>\n",
              "    <tr>\n",
              "      <th>75%</th>\n",
              "      <td>0.900000</td>\n",
              "      <td>0.600000</td>\n",
              "      <td>1.000000</td>\n",
              "      <td>0.400000</td>\n",
              "      <td>0.906190</td>\n",
              "      <td>0.396485</td>\n",
              "      <td>3.605551</td>\n",
              "      <td>0.700000</td>\n",
              "      <td>0.700000</td>\n",
              "      <td>0.700000</td>\n",
              "    </tr>\n",
              "    <tr>\n",
              "      <th>max</th>\n",
              "      <td>0.900000</td>\n",
              "      <td>1.800000</td>\n",
              "      <td>4.037945</td>\n",
              "      <td>1.264911</td>\n",
              "      <td>3.720626</td>\n",
              "      <td>0.636396</td>\n",
              "      <td>3.741657</td>\n",
              "      <td>0.900000</td>\n",
              "      <td>0.900000</td>\n",
              "      <td>0.900000</td>\n",
              "    </tr>\n",
              "  </tbody>\n",
              "</table>\n",
              "</div>"
            ],
            "text/plain": [
              "           ps_reg_01      ps_reg_02      ps_reg_03      ps_car_12  \\\n",
              "count  595212.000000  595212.000000  595212.000000  595212.000000   \n",
              "mean        0.610991       0.439184       0.551102       0.379945   \n",
              "std         0.287643       0.404264       0.793506       0.058327   \n",
              "min         0.000000       0.000000      -1.000000      -1.000000   \n",
              "25%         0.400000       0.200000       0.525000       0.316228   \n",
              "50%         0.700000       0.300000       0.720677       0.374166   \n",
              "75%         0.900000       0.600000       1.000000       0.400000   \n",
              "max         0.900000       1.800000       4.037945       1.264911   \n",
              "\n",
              "           ps_car_13      ps_car_14      ps_car_15     ps_calc_01  \\\n",
              "count  595212.000000  595212.000000  595212.000000  595212.000000   \n",
              "mean        0.813265       0.276256       3.065899       0.449756   \n",
              "std         0.224588       0.357154       0.731366       0.287198   \n",
              "min         0.250619      -1.000000       0.000000       0.000000   \n",
              "25%         0.670867       0.333167       2.828427       0.200000   \n",
              "50%         0.765811       0.368782       3.316625       0.500000   \n",
              "75%         0.906190       0.396485       3.605551       0.700000   \n",
              "max         3.720626       0.636396       3.741657       0.900000   \n",
              "\n",
              "          ps_calc_02     ps_calc_03  \n",
              "count  595212.000000  595212.000000  \n",
              "mean        0.449589       0.449849  \n",
              "std         0.286893       0.287153  \n",
              "min         0.000000       0.000000  \n",
              "25%         0.200000       0.200000  \n",
              "50%         0.400000       0.500000  \n",
              "75%         0.700000       0.700000  \n",
              "max         0.900000       0.900000  "
            ]
          },
          "metadata": {
            "tags": []
          },
          "execution_count": 13
        }
      ]
    },
    {
      "cell_type": "markdown",
      "metadata": {
        "id": "exnUrVSWUNPG"
      },
      "source": [
        "> **reg variables**\n",
        "- ps_reg_03에만 누락된 값이 있다.\n",
        "- 범위(최소에서 최대까지)는 변수마다 다르다.\n",
        "- Scaling(예: StandardScaler)을 적용할 수 있지만 사용하려는 분류기에 따라 다르다."
      ]
    },
    {
      "cell_type": "markdown",
      "metadata": {
        "id": "Z-WiU0ogUqWq"
      },
      "source": [
        "> **calc variables**\n",
        "- 결측값 없음\n",
        "- 이것은 최대값이 0.9이기 때문에 일종의 비율인 것 같다.\n",
        "- 세 개의 _calc 변수는 모두 매우 유사한 분포를 가지고 있다."
      ]
    },
    {
      "cell_type": "markdown",
      "metadata": {
        "id": "13es1IALU6E4"
      },
      "source": [
        "**전반적으로** interval 변수의 범위가 다소 작다는 것을 알 수 있다. 데이터를 익명화하기 위해 일부 변환(예: log)이 이미 적용되어 있는가?"
      ]
    },
    {
      "cell_type": "markdown",
      "metadata": {
        "id": "w_vD86F9VJHh"
      },
      "source": [
        "##**3.2 Ordinal variables**"
      ]
    },
    {
      "cell_type": "code",
      "metadata": {
        "colab": {
          "base_uri": "https://localhost:8080/",
          "height": 304
        },
        "id": "r81n1GEVT-Kg",
        "outputId": "dcd62beb-51bd-413d-a1ba-4d11ba16bc89"
      },
      "source": [
        "v = meta[(meta.level == 'ordinal') & (meta.keep)].index\n",
        "train[v].describe()"
      ],
      "execution_count": 14,
      "outputs": [
        {
          "output_type": "execute_result",
          "data": {
            "text/html": [
              "<div>\n",
              "<style scoped>\n",
              "    .dataframe tbody tr th:only-of-type {\n",
              "        vertical-align: middle;\n",
              "    }\n",
              "\n",
              "    .dataframe tbody tr th {\n",
              "        vertical-align: top;\n",
              "    }\n",
              "\n",
              "    .dataframe thead th {\n",
              "        text-align: right;\n",
              "    }\n",
              "</style>\n",
              "<table border=\"1\" class=\"dataframe\">\n",
              "  <thead>\n",
              "    <tr style=\"text-align: right;\">\n",
              "      <th></th>\n",
              "      <th>ps_ind_01</th>\n",
              "      <th>ps_ind_03</th>\n",
              "      <th>ps_ind_14</th>\n",
              "      <th>ps_ind_15</th>\n",
              "      <th>ps_car_11</th>\n",
              "      <th>ps_calc_04</th>\n",
              "      <th>ps_calc_05</th>\n",
              "      <th>ps_calc_06</th>\n",
              "      <th>ps_calc_07</th>\n",
              "      <th>ps_calc_08</th>\n",
              "      <th>ps_calc_09</th>\n",
              "      <th>ps_calc_10</th>\n",
              "      <th>ps_calc_11</th>\n",
              "      <th>ps_calc_12</th>\n",
              "      <th>ps_calc_13</th>\n",
              "      <th>ps_calc_14</th>\n",
              "    </tr>\n",
              "  </thead>\n",
              "  <tbody>\n",
              "    <tr>\n",
              "      <th>count</th>\n",
              "      <td>595212.000000</td>\n",
              "      <td>595212.000000</td>\n",
              "      <td>595212.000000</td>\n",
              "      <td>595212.000000</td>\n",
              "      <td>595212.000000</td>\n",
              "      <td>595212.000000</td>\n",
              "      <td>595212.000000</td>\n",
              "      <td>595212.000000</td>\n",
              "      <td>595212.000000</td>\n",
              "      <td>595212.000000</td>\n",
              "      <td>595212.000000</td>\n",
              "      <td>595212.000000</td>\n",
              "      <td>595212.000000</td>\n",
              "      <td>595212.000000</td>\n",
              "      <td>595212.000000</td>\n",
              "      <td>595212.000000</td>\n",
              "    </tr>\n",
              "    <tr>\n",
              "      <th>mean</th>\n",
              "      <td>1.900378</td>\n",
              "      <td>4.423318</td>\n",
              "      <td>0.012451</td>\n",
              "      <td>7.299922</td>\n",
              "      <td>2.346072</td>\n",
              "      <td>2.372081</td>\n",
              "      <td>1.885886</td>\n",
              "      <td>7.689445</td>\n",
              "      <td>3.005823</td>\n",
              "      <td>9.225904</td>\n",
              "      <td>2.339034</td>\n",
              "      <td>8.433590</td>\n",
              "      <td>5.441382</td>\n",
              "      <td>1.441918</td>\n",
              "      <td>2.872288</td>\n",
              "      <td>7.539026</td>\n",
              "    </tr>\n",
              "    <tr>\n",
              "      <th>std</th>\n",
              "      <td>1.983789</td>\n",
              "      <td>2.699902</td>\n",
              "      <td>0.127545</td>\n",
              "      <td>3.546042</td>\n",
              "      <td>0.832548</td>\n",
              "      <td>1.117219</td>\n",
              "      <td>1.134927</td>\n",
              "      <td>1.334312</td>\n",
              "      <td>1.414564</td>\n",
              "      <td>1.459672</td>\n",
              "      <td>1.246949</td>\n",
              "      <td>2.904597</td>\n",
              "      <td>2.332871</td>\n",
              "      <td>1.202963</td>\n",
              "      <td>1.694887</td>\n",
              "      <td>2.746652</td>\n",
              "    </tr>\n",
              "    <tr>\n",
              "      <th>min</th>\n",
              "      <td>0.000000</td>\n",
              "      <td>0.000000</td>\n",
              "      <td>0.000000</td>\n",
              "      <td>0.000000</td>\n",
              "      <td>-1.000000</td>\n",
              "      <td>0.000000</td>\n",
              "      <td>0.000000</td>\n",
              "      <td>0.000000</td>\n",
              "      <td>0.000000</td>\n",
              "      <td>2.000000</td>\n",
              "      <td>0.000000</td>\n",
              "      <td>0.000000</td>\n",
              "      <td>0.000000</td>\n",
              "      <td>0.000000</td>\n",
              "      <td>0.000000</td>\n",
              "      <td>0.000000</td>\n",
              "    </tr>\n",
              "    <tr>\n",
              "      <th>25%</th>\n",
              "      <td>0.000000</td>\n",
              "      <td>2.000000</td>\n",
              "      <td>0.000000</td>\n",
              "      <td>5.000000</td>\n",
              "      <td>2.000000</td>\n",
              "      <td>2.000000</td>\n",
              "      <td>1.000000</td>\n",
              "      <td>7.000000</td>\n",
              "      <td>2.000000</td>\n",
              "      <td>8.000000</td>\n",
              "      <td>1.000000</td>\n",
              "      <td>6.000000</td>\n",
              "      <td>4.000000</td>\n",
              "      <td>1.000000</td>\n",
              "      <td>2.000000</td>\n",
              "      <td>6.000000</td>\n",
              "    </tr>\n",
              "    <tr>\n",
              "      <th>50%</th>\n",
              "      <td>1.000000</td>\n",
              "      <td>4.000000</td>\n",
              "      <td>0.000000</td>\n",
              "      <td>7.000000</td>\n",
              "      <td>3.000000</td>\n",
              "      <td>2.000000</td>\n",
              "      <td>2.000000</td>\n",
              "      <td>8.000000</td>\n",
              "      <td>3.000000</td>\n",
              "      <td>9.000000</td>\n",
              "      <td>2.000000</td>\n",
              "      <td>8.000000</td>\n",
              "      <td>5.000000</td>\n",
              "      <td>1.000000</td>\n",
              "      <td>3.000000</td>\n",
              "      <td>7.000000</td>\n",
              "    </tr>\n",
              "    <tr>\n",
              "      <th>75%</th>\n",
              "      <td>3.000000</td>\n",
              "      <td>6.000000</td>\n",
              "      <td>0.000000</td>\n",
              "      <td>10.000000</td>\n",
              "      <td>3.000000</td>\n",
              "      <td>3.000000</td>\n",
              "      <td>3.000000</td>\n",
              "      <td>9.000000</td>\n",
              "      <td>4.000000</td>\n",
              "      <td>10.000000</td>\n",
              "      <td>3.000000</td>\n",
              "      <td>10.000000</td>\n",
              "      <td>7.000000</td>\n",
              "      <td>2.000000</td>\n",
              "      <td>4.000000</td>\n",
              "      <td>9.000000</td>\n",
              "    </tr>\n",
              "    <tr>\n",
              "      <th>max</th>\n",
              "      <td>7.000000</td>\n",
              "      <td>11.000000</td>\n",
              "      <td>4.000000</td>\n",
              "      <td>13.000000</td>\n",
              "      <td>3.000000</td>\n",
              "      <td>5.000000</td>\n",
              "      <td>6.000000</td>\n",
              "      <td>10.000000</td>\n",
              "      <td>9.000000</td>\n",
              "      <td>12.000000</td>\n",
              "      <td>7.000000</td>\n",
              "      <td>25.000000</td>\n",
              "      <td>19.000000</td>\n",
              "      <td>10.000000</td>\n",
              "      <td>13.000000</td>\n",
              "      <td>23.000000</td>\n",
              "    </tr>\n",
              "  </tbody>\n",
              "</table>\n",
              "</div>"
            ],
            "text/plain": [
              "           ps_ind_01      ps_ind_03      ps_ind_14      ps_ind_15  \\\n",
              "count  595212.000000  595212.000000  595212.000000  595212.000000   \n",
              "mean        1.900378       4.423318       0.012451       7.299922   \n",
              "std         1.983789       2.699902       0.127545       3.546042   \n",
              "min         0.000000       0.000000       0.000000       0.000000   \n",
              "25%         0.000000       2.000000       0.000000       5.000000   \n",
              "50%         1.000000       4.000000       0.000000       7.000000   \n",
              "75%         3.000000       6.000000       0.000000      10.000000   \n",
              "max         7.000000      11.000000       4.000000      13.000000   \n",
              "\n",
              "           ps_car_11     ps_calc_04     ps_calc_05     ps_calc_06  \\\n",
              "count  595212.000000  595212.000000  595212.000000  595212.000000   \n",
              "mean        2.346072       2.372081       1.885886       7.689445   \n",
              "std         0.832548       1.117219       1.134927       1.334312   \n",
              "min        -1.000000       0.000000       0.000000       0.000000   \n",
              "25%         2.000000       2.000000       1.000000       7.000000   \n",
              "50%         3.000000       2.000000       2.000000       8.000000   \n",
              "75%         3.000000       3.000000       3.000000       9.000000   \n",
              "max         3.000000       5.000000       6.000000      10.000000   \n",
              "\n",
              "          ps_calc_07     ps_calc_08     ps_calc_09     ps_calc_10  \\\n",
              "count  595212.000000  595212.000000  595212.000000  595212.000000   \n",
              "mean        3.005823       9.225904       2.339034       8.433590   \n",
              "std         1.414564       1.459672       1.246949       2.904597   \n",
              "min         0.000000       2.000000       0.000000       0.000000   \n",
              "25%         2.000000       8.000000       1.000000       6.000000   \n",
              "50%         3.000000       9.000000       2.000000       8.000000   \n",
              "75%         4.000000      10.000000       3.000000      10.000000   \n",
              "max         9.000000      12.000000       7.000000      25.000000   \n",
              "\n",
              "          ps_calc_11     ps_calc_12     ps_calc_13     ps_calc_14  \n",
              "count  595212.000000  595212.000000  595212.000000  595212.000000  \n",
              "mean        5.441382       1.441918       2.872288       7.539026  \n",
              "std         2.332871       1.202963       1.694887       2.746652  \n",
              "min         0.000000       0.000000       0.000000       0.000000  \n",
              "25%         4.000000       1.000000       2.000000       6.000000  \n",
              "50%         5.000000       1.000000       3.000000       7.000000  \n",
              "75%         7.000000       2.000000       4.000000       9.000000  \n",
              "max        19.000000      10.000000      13.000000      23.000000  "
            ]
          },
          "metadata": {
            "tags": []
          },
          "execution_count": 14
        }
      ]
    },
    {
      "cell_type": "markdown",
      "metadata": {
        "id": "MRsY42KRVdtc"
      },
      "source": [
        "- 하나의 누락된 변수 : ps_car_11\n",
        "- 다양한 범위를 처리하기 위해 scaling을 적용할 수 있다."
      ]
    },
    {
      "cell_type": "markdown",
      "metadata": {
        "id": "rDnz1KPyVlJz"
      },
      "source": [
        "##**3.3 Binary variables**"
      ]
    },
    {
      "cell_type": "code",
      "metadata": {
        "colab": {
          "base_uri": "https://localhost:8080/",
          "height": 304
        },
        "id": "ksaSUEf7VYAc",
        "outputId": "9f82374a-7e34-4f77-bd63-bcaa955fd9cf"
      },
      "source": [
        "v = meta[(meta.level == 'binary') & (meta.keep)].index\n",
        "train[v].describe()"
      ],
      "execution_count": 15,
      "outputs": [
        {
          "output_type": "execute_result",
          "data": {
            "text/html": [
              "<div>\n",
              "<style scoped>\n",
              "    .dataframe tbody tr th:only-of-type {\n",
              "        vertical-align: middle;\n",
              "    }\n",
              "\n",
              "    .dataframe tbody tr th {\n",
              "        vertical-align: top;\n",
              "    }\n",
              "\n",
              "    .dataframe thead th {\n",
              "        text-align: right;\n",
              "    }\n",
              "</style>\n",
              "<table border=\"1\" class=\"dataframe\">\n",
              "  <thead>\n",
              "    <tr style=\"text-align: right;\">\n",
              "      <th></th>\n",
              "      <th>target</th>\n",
              "      <th>ps_ind_06_bin</th>\n",
              "      <th>ps_ind_07_bin</th>\n",
              "      <th>ps_ind_08_bin</th>\n",
              "      <th>ps_ind_09_bin</th>\n",
              "      <th>ps_ind_10_bin</th>\n",
              "      <th>ps_ind_11_bin</th>\n",
              "      <th>ps_ind_12_bin</th>\n",
              "      <th>ps_ind_13_bin</th>\n",
              "      <th>ps_ind_16_bin</th>\n",
              "      <th>ps_ind_17_bin</th>\n",
              "      <th>ps_ind_18_bin</th>\n",
              "      <th>ps_calc_15_bin</th>\n",
              "      <th>ps_calc_16_bin</th>\n",
              "      <th>ps_calc_17_bin</th>\n",
              "      <th>ps_calc_18_bin</th>\n",
              "      <th>ps_calc_19_bin</th>\n",
              "      <th>ps_calc_20_bin</th>\n",
              "    </tr>\n",
              "  </thead>\n",
              "  <tbody>\n",
              "    <tr>\n",
              "      <th>count</th>\n",
              "      <td>595212.000000</td>\n",
              "      <td>595212.000000</td>\n",
              "      <td>595212.000000</td>\n",
              "      <td>595212.000000</td>\n",
              "      <td>595212.000000</td>\n",
              "      <td>595212.000000</td>\n",
              "      <td>595212.000000</td>\n",
              "      <td>595212.000000</td>\n",
              "      <td>595212.000000</td>\n",
              "      <td>595212.000000</td>\n",
              "      <td>595212.000000</td>\n",
              "      <td>595212.000000</td>\n",
              "      <td>595212.000000</td>\n",
              "      <td>595212.000000</td>\n",
              "      <td>595212.000000</td>\n",
              "      <td>595212.000000</td>\n",
              "      <td>595212.000000</td>\n",
              "      <td>595212.000000</td>\n",
              "    </tr>\n",
              "    <tr>\n",
              "      <th>mean</th>\n",
              "      <td>0.036448</td>\n",
              "      <td>0.393742</td>\n",
              "      <td>0.257033</td>\n",
              "      <td>0.163921</td>\n",
              "      <td>0.185304</td>\n",
              "      <td>0.000373</td>\n",
              "      <td>0.001692</td>\n",
              "      <td>0.009439</td>\n",
              "      <td>0.000948</td>\n",
              "      <td>0.660823</td>\n",
              "      <td>0.121081</td>\n",
              "      <td>0.153446</td>\n",
              "      <td>0.122427</td>\n",
              "      <td>0.627840</td>\n",
              "      <td>0.554182</td>\n",
              "      <td>0.287182</td>\n",
              "      <td>0.349024</td>\n",
              "      <td>0.153318</td>\n",
              "    </tr>\n",
              "    <tr>\n",
              "      <th>std</th>\n",
              "      <td>0.187401</td>\n",
              "      <td>0.488579</td>\n",
              "      <td>0.436998</td>\n",
              "      <td>0.370205</td>\n",
              "      <td>0.388544</td>\n",
              "      <td>0.019309</td>\n",
              "      <td>0.041097</td>\n",
              "      <td>0.096693</td>\n",
              "      <td>0.030768</td>\n",
              "      <td>0.473430</td>\n",
              "      <td>0.326222</td>\n",
              "      <td>0.360417</td>\n",
              "      <td>0.327779</td>\n",
              "      <td>0.483381</td>\n",
              "      <td>0.497056</td>\n",
              "      <td>0.452447</td>\n",
              "      <td>0.476662</td>\n",
              "      <td>0.360295</td>\n",
              "    </tr>\n",
              "    <tr>\n",
              "      <th>min</th>\n",
              "      <td>0.000000</td>\n",
              "      <td>0.000000</td>\n",
              "      <td>0.000000</td>\n",
              "      <td>0.000000</td>\n",
              "      <td>0.000000</td>\n",
              "      <td>0.000000</td>\n",
              "      <td>0.000000</td>\n",
              "      <td>0.000000</td>\n",
              "      <td>0.000000</td>\n",
              "      <td>0.000000</td>\n",
              "      <td>0.000000</td>\n",
              "      <td>0.000000</td>\n",
              "      <td>0.000000</td>\n",
              "      <td>0.000000</td>\n",
              "      <td>0.000000</td>\n",
              "      <td>0.000000</td>\n",
              "      <td>0.000000</td>\n",
              "      <td>0.000000</td>\n",
              "    </tr>\n",
              "    <tr>\n",
              "      <th>25%</th>\n",
              "      <td>0.000000</td>\n",
              "      <td>0.000000</td>\n",
              "      <td>0.000000</td>\n",
              "      <td>0.000000</td>\n",
              "      <td>0.000000</td>\n",
              "      <td>0.000000</td>\n",
              "      <td>0.000000</td>\n",
              "      <td>0.000000</td>\n",
              "      <td>0.000000</td>\n",
              "      <td>0.000000</td>\n",
              "      <td>0.000000</td>\n",
              "      <td>0.000000</td>\n",
              "      <td>0.000000</td>\n",
              "      <td>0.000000</td>\n",
              "      <td>0.000000</td>\n",
              "      <td>0.000000</td>\n",
              "      <td>0.000000</td>\n",
              "      <td>0.000000</td>\n",
              "    </tr>\n",
              "    <tr>\n",
              "      <th>50%</th>\n",
              "      <td>0.000000</td>\n",
              "      <td>0.000000</td>\n",
              "      <td>0.000000</td>\n",
              "      <td>0.000000</td>\n",
              "      <td>0.000000</td>\n",
              "      <td>0.000000</td>\n",
              "      <td>0.000000</td>\n",
              "      <td>0.000000</td>\n",
              "      <td>0.000000</td>\n",
              "      <td>1.000000</td>\n",
              "      <td>0.000000</td>\n",
              "      <td>0.000000</td>\n",
              "      <td>0.000000</td>\n",
              "      <td>1.000000</td>\n",
              "      <td>1.000000</td>\n",
              "      <td>0.000000</td>\n",
              "      <td>0.000000</td>\n",
              "      <td>0.000000</td>\n",
              "    </tr>\n",
              "    <tr>\n",
              "      <th>75%</th>\n",
              "      <td>0.000000</td>\n",
              "      <td>1.000000</td>\n",
              "      <td>1.000000</td>\n",
              "      <td>0.000000</td>\n",
              "      <td>0.000000</td>\n",
              "      <td>0.000000</td>\n",
              "      <td>0.000000</td>\n",
              "      <td>0.000000</td>\n",
              "      <td>0.000000</td>\n",
              "      <td>1.000000</td>\n",
              "      <td>0.000000</td>\n",
              "      <td>0.000000</td>\n",
              "      <td>0.000000</td>\n",
              "      <td>1.000000</td>\n",
              "      <td>1.000000</td>\n",
              "      <td>1.000000</td>\n",
              "      <td>1.000000</td>\n",
              "      <td>0.000000</td>\n",
              "    </tr>\n",
              "    <tr>\n",
              "      <th>max</th>\n",
              "      <td>1.000000</td>\n",
              "      <td>1.000000</td>\n",
              "      <td>1.000000</td>\n",
              "      <td>1.000000</td>\n",
              "      <td>1.000000</td>\n",
              "      <td>1.000000</td>\n",
              "      <td>1.000000</td>\n",
              "      <td>1.000000</td>\n",
              "      <td>1.000000</td>\n",
              "      <td>1.000000</td>\n",
              "      <td>1.000000</td>\n",
              "      <td>1.000000</td>\n",
              "      <td>1.000000</td>\n",
              "      <td>1.000000</td>\n",
              "      <td>1.000000</td>\n",
              "      <td>1.000000</td>\n",
              "      <td>1.000000</td>\n",
              "      <td>1.000000</td>\n",
              "    </tr>\n",
              "  </tbody>\n",
              "</table>\n",
              "</div>"
            ],
            "text/plain": [
              "              target  ps_ind_06_bin  ps_ind_07_bin  ps_ind_08_bin  \\\n",
              "count  595212.000000  595212.000000  595212.000000  595212.000000   \n",
              "mean        0.036448       0.393742       0.257033       0.163921   \n",
              "std         0.187401       0.488579       0.436998       0.370205   \n",
              "min         0.000000       0.000000       0.000000       0.000000   \n",
              "25%         0.000000       0.000000       0.000000       0.000000   \n",
              "50%         0.000000       0.000000       0.000000       0.000000   \n",
              "75%         0.000000       1.000000       1.000000       0.000000   \n",
              "max         1.000000       1.000000       1.000000       1.000000   \n",
              "\n",
              "       ps_ind_09_bin  ps_ind_10_bin  ps_ind_11_bin  ps_ind_12_bin  \\\n",
              "count  595212.000000  595212.000000  595212.000000  595212.000000   \n",
              "mean        0.185304       0.000373       0.001692       0.009439   \n",
              "std         0.388544       0.019309       0.041097       0.096693   \n",
              "min         0.000000       0.000000       0.000000       0.000000   \n",
              "25%         0.000000       0.000000       0.000000       0.000000   \n",
              "50%         0.000000       0.000000       0.000000       0.000000   \n",
              "75%         0.000000       0.000000       0.000000       0.000000   \n",
              "max         1.000000       1.000000       1.000000       1.000000   \n",
              "\n",
              "       ps_ind_13_bin  ps_ind_16_bin  ps_ind_17_bin  ps_ind_18_bin  \\\n",
              "count  595212.000000  595212.000000  595212.000000  595212.000000   \n",
              "mean        0.000948       0.660823       0.121081       0.153446   \n",
              "std         0.030768       0.473430       0.326222       0.360417   \n",
              "min         0.000000       0.000000       0.000000       0.000000   \n",
              "25%         0.000000       0.000000       0.000000       0.000000   \n",
              "50%         0.000000       1.000000       0.000000       0.000000   \n",
              "75%         0.000000       1.000000       0.000000       0.000000   \n",
              "max         1.000000       1.000000       1.000000       1.000000   \n",
              "\n",
              "       ps_calc_15_bin  ps_calc_16_bin  ps_calc_17_bin  ps_calc_18_bin  \\\n",
              "count   595212.000000   595212.000000   595212.000000   595212.000000   \n",
              "mean         0.122427        0.627840        0.554182        0.287182   \n",
              "std          0.327779        0.483381        0.497056        0.452447   \n",
              "min          0.000000        0.000000        0.000000        0.000000   \n",
              "25%          0.000000        0.000000        0.000000        0.000000   \n",
              "50%          0.000000        1.000000        1.000000        0.000000   \n",
              "75%          0.000000        1.000000        1.000000        1.000000   \n",
              "max          1.000000        1.000000        1.000000        1.000000   \n",
              "\n",
              "       ps_calc_19_bin  ps_calc_20_bin  \n",
              "count   595212.000000   595212.000000  \n",
              "mean         0.349024        0.153318  \n",
              "std          0.476662        0.360295  \n",
              "min          0.000000        0.000000  \n",
              "25%          0.000000        0.000000  \n",
              "50%          0.000000        0.000000  \n",
              "75%          1.000000        0.000000  \n",
              "max          1.000000        1.000000  "
            ]
          },
          "metadata": {
            "tags": []
          },
          "execution_count": 15
        }
      ]
    },
    {
      "cell_type": "markdown",
      "metadata": {
        "id": "_lzi1EahV2hH"
      },
      "source": [
        "- Train data의 선험적 수치는 3.645%로 매우 불균형하다.\n",
        "- 평균으로부터 우리는 대부분의 변수에 대해 대부분의 경우 값이 0이라는 결론을 내릴 수 있다."
      ]
    },
    {
      "cell_type": "markdown",
      "metadata": {
        "id": "oQR9QKcYWCcm"
      },
      "source": [
        "#**4. Handling imbalanced classes**<br>\n",
        "위에서 언급했듯이 target = 1 인 record의 비율은 target = 0 보다 훨씬 적다. 이로 인해 정확도는 높지만 실제로는 부가 가치가 있는 모델이 생성될 수 있다. 이 문제를 처리하기 위한 두 가지 가능한 전략은 다음과 같다. <br>\n",
        "\n",
        "- target = 1 인 oversampling record\n",
        "- target = 0 인 undersampling record<br>\n",
        "\n",
        "물론 더 많은 전략이 있으며 MachineLearningMastery.com 은 멋진 개요를 제공한다. Train set가 상당히 크기 때문에 **Undersampling**을 할 수 있다."
      ]
    },
    {
      "cell_type": "code",
      "metadata": {
        "colab": {
          "base_uri": "https://localhost:8080/"
        },
        "id": "SxYBw6vQVyhI",
        "outputId": "d5d08164-564e-481d-a37b-ec538d6882c8"
      },
      "source": [
        "desired_apriori = 0.10\n",
        "\n",
        "# Get the indices per target value\n",
        "idx_0 = train[train.target == 0].index\n",
        "idx_1 = train[train.target == 1].index\n",
        "\n",
        "# Get original number of records per target value\n",
        "nb_0 = len(train.loc[idx_0])\n",
        "nb_1 = len(train.loc[idx_1])\n",
        "\n",
        "# Calculate the undersampling rate and resulting number of records with target=0\n",
        "undersampling_rate = ((1 - desired_apriori) * nb_1) / (nb_0 * desired_apriori)\n",
        "undersampled_nb_0 = int(undersampling_rate * nb_0)\n",
        "print('Rate to undersample records with target = 0: {}'.format(undersampling_rate))\n",
        "print('Number of records with target = 0 after undersampling: {}'.format(undersampled_nb_0))\n",
        "\n",
        "# Randomly select records with target=0 to get at the desired apriori\n",
        "undersampled_idx = shuffle(idx_0, random_state=37, n_samples=undersampled_nb_0)\n",
        "\n",
        "# Construct list with remaining indices\n",
        "idx_list = list(undersampled_idx) + list(idx_1)\n",
        "\n",
        "# Return undersample data frame\n",
        "train = train.loc[idx_list].reset_index(drop=True)"
      ],
      "execution_count": 16,
      "outputs": [
        {
          "output_type": "stream",
          "text": [
            "Rate to undersample records with target = 0: 0.34043569687437886\n",
            "Number of records with target = 0 after undersampling: 195246\n"
          ],
          "name": "stdout"
        }
      ]
    },
    {
      "cell_type": "markdown",
      "metadata": {
        "id": "1NFVeYagY8hm"
      },
      "source": [
        "#**5. Data Quality Checks**"
      ]
    },
    {
      "cell_type": "markdown",
      "metadata": {
        "id": "NkLaP8ydZGS1"
      },
      "source": [
        "##**5.1 Checking missing values**\n",
        "\n",
        "누락은 -1로 표시된다."
      ]
    },
    {
      "cell_type": "code",
      "metadata": {
        "colab": {
          "base_uri": "https://localhost:8080/"
        },
        "id": "4yUDH_hCY5MP",
        "outputId": "db11eded-d11e-4933-c005-9062f4438e63"
      },
      "source": [
        "vars_with_missing = []\n",
        "\n",
        "for f in train.columns:\n",
        "  missings = train[train[f] == -1][f].count()\n",
        "  if missings > 0:\n",
        "    vars_with_missing.append(f)\n",
        "    missings_perc = missings / train.shape[0]\n",
        "\n",
        "    print('Variable {} has {} records ({:.2%}) with missing values'.format(f, missings, missings_perc))\n",
        "\n",
        "print('In total, there are {} variables with missing values'.format(len(vars_with_missing)))"
      ],
      "execution_count": 17,
      "outputs": [
        {
          "output_type": "stream",
          "text": [
            "Variable ps_ind_02_cat has 103 records (0.05%) with missing values\n",
            "Variable ps_ind_04_cat has 51 records (0.02%) with missing values\n",
            "Variable ps_ind_05_cat has 2256 records (1.04%) with missing values\n",
            "Variable ps_reg_03 has 38580 records (17.78%) with missing values\n",
            "Variable ps_car_01_cat has 62 records (0.03%) with missing values\n",
            "Variable ps_car_02_cat has 2 records (0.00%) with missing values\n",
            "Variable ps_car_03_cat has 148367 records (68.39%) with missing values\n",
            "Variable ps_car_05_cat has 96026 records (44.26%) with missing values\n",
            "Variable ps_car_07_cat has 4431 records (2.04%) with missing values\n",
            "Variable ps_car_09_cat has 230 records (0.11%) with missing values\n",
            "Variable ps_car_11 has 1 records (0.00%) with missing values\n",
            "Variable ps_car_14 has 15726 records (7.25%) with missing values\n",
            "In total, there are 12 variables with missing values\n"
          ],
          "name": "stdout"
        }
      ]
    },
    {
      "cell_type": "markdown",
      "metadata": {
        "id": "vXaUQF5LaAFX"
      },
      "source": [
        "- **ps_car_03_cat**과 **ps_car_05_cat**에는 누락된 값이 있는 많은 record가 있다. 이러한 변수를 제거하여라.\n",
        "- 결측값이 있는 다른 범주형 변수의 경우 결측값 -1을 그대로 둘 수 있다.\n",
        "- **ps_reg_03**(연속)에 모든 record의 18%에 대한 결측값이 있다. 평균으로 대체하자.\n",
        "- **ps_car_11**(순서)에는 잘못된 값이 있는 record가 5개만 있다. mode로 교체하자.\n",
        "- **ps_car_12**(연속)에는 누락된 값이 있는 record가 1개만 있다. 평균으로 대체하자.\n",
        "- **ps_car_14**(연속)에 모든 record의 7%에 대한 결측값이 있다. 평균으로 대체하자."
      ]
    },
    {
      "cell_type": "code",
      "metadata": {
        "id": "wykmDue9Z5UK"
      },
      "source": [
        "# Dropping the variables with too many missing values\n",
        "vars_to_drop = ['ps_car_03_cat', 'ps_car_05_cat']\n",
        "train.drop(vars_to_drop, inplace=True, axis=1)\n",
        "meta.loc[(vars_to_drop), 'keep'] = False   # Updating the meta\n",
        "\n",
        "# Imputing with the mean or mode\n",
        "mean_imp = SimpleImputer(missing_values=-1, strategy='mean')\n",
        "mode_imp = SimpleImputer(missing_values=-1, strategy='most_frequent')\n",
        "train['ps_reg_03'] = mean_imp.fit_transform(train[['ps_reg_03']]).ravel()\n",
        "train['ps_car_12'] = mean_imp.fit_transform(train[['ps_car_12']]).ravel()\n",
        "train['ps_car_14'] = mean_imp.fit_transform(train[['ps_car_14']]).ravel()\n",
        "train['ps_car_11'] = mean_imp.fit_transform(train[['ps_car_11']]).ravel()"
      ],
      "execution_count": 18,
      "outputs": []
    },
    {
      "cell_type": "markdown",
      "metadata": {
        "id": "PtpnvhtCR9nS"
      },
      "source": [
        "##**5.2 Checking the cardinality of the categorical variables**<br>\n",
        "Cardinality는 변수에 있는 서로 다른 값의 수를 나타낸다. 나중에 범주형 변수에서 더미 변수를 만들 것이므로 고유한 값이 많은 변수가 있는지 확인해야 한다. 이러한 변수는 많은 더미 변수를 생성하므로 다르게 처리해야한다."
      ]
    },
    {
      "cell_type": "code",
      "metadata": {
        "id": "5uI6l2NQcTiX",
        "colab": {
          "base_uri": "https://localhost:8080/"
        },
        "outputId": "ee5192cd-f748-44b1-ca29-37be338938f7"
      },
      "source": [
        "v = meta[(meta.level == 'nominal') & (meta.keep)].index\n",
        "\n",
        "for f in v:\n",
        "  dist_values = train[f].value_counts().shape[0]\n",
        "  print('Variable {} has {} distinct values'.format(f, dist_values))"
      ],
      "execution_count": 19,
      "outputs": [
        {
          "output_type": "stream",
          "text": [
            "Variable ps_ind_02_cat has 5 distinct values\n",
            "Variable ps_ind_04_cat has 3 distinct values\n",
            "Variable ps_ind_05_cat has 8 distinct values\n",
            "Variable ps_car_01_cat has 13 distinct values\n",
            "Variable ps_car_02_cat has 3 distinct values\n",
            "Variable ps_car_04_cat has 10 distinct values\n",
            "Variable ps_car_06_cat has 18 distinct values\n",
            "Variable ps_car_07_cat has 3 distinct values\n",
            "Variable ps_car_08_cat has 2 distinct values\n",
            "Variable ps_car_09_cat has 6 distinct values\n",
            "Variable ps_car_10_cat has 3 distinct values\n",
            "Variable ps_car_11_cat has 104 distinct values\n"
          ],
          "name": "stdout"
        }
      ]
    },
    {
      "cell_type": "markdown",
      "metadata": {
        "id": "K6mTveyOS8lf"
      },
      "source": [
        "**ps_car_11_cat**만이 여전히 합리적이지만 많은 고유 값을 가지고 있다."
      ]
    },
    {
      "cell_type": "code",
      "metadata": {
        "id": "leQXtDBgS6Io"
      },
      "source": [
        "# Script by https://www.kaggle.com/ogrellier\n",
        "# Code: https://www.kaggle.com/ogrellier/python-target-encoding-for-categorical-features\n",
        "def add_noise(series, noise_level):\n",
        "    return series * (1 + noise_level * np.random.randn(len(series)))\n",
        "\n",
        "def target_encode(trn_series=None, \n",
        "                  tst_series=None, \n",
        "                  target=None, \n",
        "                  min_samples_leaf=1, \n",
        "                  smoothing=1,\n",
        "                  noise_level=0):\n",
        "    \"\"\"\n",
        "    Smoothing is computed like in the following paper by Daniele Micci-Barreca\n",
        "    https://kaggle2.blob.core.windows.net/forum-message-attachments/225952/7441/high%20cardinality%20categoricals.pdf\n",
        "    trn_series : training categorical feature as a pd.Series\n",
        "    tst_series : test categorical feature as a pd.Series\n",
        "    target : target data as a pd.Series\n",
        "    min_samples_leaf (int) : minimum samples to take category average into account\n",
        "    smoothing (int) : smoothing effect to balance categorical average vs prior  \n",
        "    \"\"\" \n",
        "    assert len(trn_series) == len(target)\n",
        "    assert trn_series.name == tst_series.name\n",
        "    temp = pd.concat([trn_series, target], axis=1)\n",
        "    # Compute target mean \n",
        "    averages = temp.groupby(by=trn_series.name)[target.name].agg([\"mean\", \"count\"])\n",
        "    # Compute smoothing\n",
        "    smoothing = 1 / (1 + np.exp(-(averages[\"count\"] - min_samples_leaf) / smoothing))\n",
        "    # Apply average function to all target data\n",
        "    prior = target.mean()\n",
        "    # The bigger the count the less full_avg is taken into account\n",
        "    averages[target.name] = prior * (1 - smoothing) + averages[\"mean\"] * smoothing\n",
        "    averages.drop([\"mean\", \"count\"], axis=1, inplace=True)\n",
        "    # Apply averages to trn and tst series\n",
        "    ft_trn_series = pd.merge(\n",
        "        trn_series.to_frame(trn_series.name),\n",
        "        averages.reset_index().rename(columns={'index': target.name, target.name: 'average'}),\n",
        "        on=trn_series.name,\n",
        "        how='left')['average'].rename(trn_series.name + '_mean').fillna(prior)\n",
        "    # pd.merge does not keep the index so restore it\n",
        "    ft_trn_series.index = trn_series.index \n",
        "    ft_tst_series = pd.merge(\n",
        "        tst_series.to_frame(tst_series.name),\n",
        "        averages.reset_index().rename(columns={'index': target.name, target.name: 'average'}),\n",
        "        on=tst_series.name,\n",
        "        how='left')['average'].rename(trn_series.name + '_mean').fillna(prior)\n",
        "    # pd.merge does not keep the index so restore it\n",
        "    ft_tst_series.index = tst_series.index\n",
        "    return add_noise(ft_trn_series, noise_level), add_noise(ft_tst_series, noise_level)"
      ],
      "execution_count": 22,
      "outputs": []
    },
    {
      "cell_type": "code",
      "metadata": {
        "id": "pflOhQedWfXl"
      },
      "source": [
        "train_encoded, test_encoded = target_encode(train[\"ps_car_11_cat\"],\n",
        "                                            test[\"ps_car_11_cat\"],\n",
        "                                            target = train.target,\n",
        "                                            min_samples_leaf = 100,\n",
        "                                            smoothing = 10,\n",
        "                                            noise_level = 0.01)\n",
        "\n",
        "train['ps_car_11_cat_te'] = train_encoded\n",
        "train.drop('ps_car_11_cat', axis=1, inplace=True)\n",
        "meta.loc['ps_car_11_cat', 'keep'] = False   # Updating the meta\n",
        "test['ps_car_11_cat_te'] = test_encoded\n",
        "test.drop('ps_car_11_cat', axis=1, inplace=True)"
      ],
      "execution_count": 23,
      "outputs": []
    },
    {
      "cell_type": "markdown",
      "metadata": {
        "id": "4T7yRJoTYHJ-"
      },
      "source": [
        "#**6. Exploratory Data Visualization**"
      ]
    },
    {
      "cell_type": "markdown",
      "metadata": {
        "id": "FKYsOcqUYN0f"
      },
      "source": [
        "##**6.1 Categorical variables**<br>\n",
        "범주형 변수와 target=1인 고객 비율을 살펴 보겠다."
      ]
    },
    {
      "cell_type": "code",
      "metadata": {
        "colab": {
          "base_uri": "https://localhost:8080/",
          "height": 1000
        },
        "id": "-s8FM4Y0XZi0",
        "outputId": "6e379807-b40d-49b3-eded-2ac5a17b7c2e"
      },
      "source": [
        "v = meta[(meta.level == 'nominal') & (meta.keep)].index\n",
        "\n",
        "for f in v:\n",
        "  plt.figure()\n",
        "  fig, ax = plt.subplots(figsize=(20, 10))\n",
        "  # Calculate the percentage of target=1 per category value\n",
        "  cat_perc = train[[f, 'target']].groupby([f], as_index = False).mean()\n",
        "  cat_perc.sort_values(by='target', ascending=False, inplace=True)\n",
        "  # Bar plot\n",
        "  # Order the bars descending on target mean\n",
        "  sns.barplot(ax=ax, x=f, y='target', data=cat_perc, order=cat_perc[f])\n",
        "  plt.ylabel('% target', fontsize=18)\n",
        "  plt.xlabel(f, fontsize=18)\n",
        "  plt.tick_params(axis='both', which='major', labelsize=18)\n",
        "  plt.show()"
      ],
      "execution_count": 25,
      "outputs": [
        {
          "output_type": "display_data",
          "data": {
            "text/plain": [
              "<Figure size 432x288 with 0 Axes>"
            ]
          },
          "metadata": {
            "tags": []
          }
        },
        {
          "output_type": "display_data",
          "data": {
            "image/png": "[encoded data removed]",
            "text/plain": [
              "<Figure size 1440x720 with 1 Axes>"
            ]
          },
          "metadata": {
            "tags": [],
            "needs_background": "light"
          }
        },
        {
          "output_type": "display_data",
          "data": {
            "text/plain": [
              "<Figure size 432x288 with 0 Axes>"
            ]
          },
          "metadata": {
            "tags": []
          }
        },
        {
          "output_type": "display_data",
          "data": {
            "image/png": "[encoded data removed]",
            "text/plain": [
              "<Figure size 1440x720 with 1 Axes>"
            ]
          },
          "metadata": {
            "tags": [],
            "needs_background": "light"
          }
        },
        {
          "output_type": "display_data",
          "data": {
            "text/plain": [
              "<Figure size 432x288 with 0 Axes>"
            ]
          },
          "metadata": {
            "tags": []
          }
        },
        {
          "output_type": "display_data",
          "data": {
            "image/png": "[encoded data removed]",
            "text/plain": [
              "<Figure size 1440x720 with 1 Axes>"
            ]
          },
          "metadata": {
            "tags": [],
            "needs_background": "light"
          }
        },
        {
          "output_type": "display_data",
          "data": {
            "text/plain": [
              "<Figure size 432x288 with 0 Axes>"
            ]
          },
          "metadata": {
            "tags": []
          }
        },
        {
          "output_type": "display_data",
          "data": {
            "image/png": "[encoded data removed]",
            "text/plain": [
              "<Figure size 1440x720 with 1 Axes>"
            ]
          },
          "metadata": {
            "tags": [],
            "needs_background": "light"
          }
        },
        {
          "output_type": "display_data",
          "data": {
            "text/plain": [
              "<Figure size 432x288 with 0 Axes>"
            ]
          },
          "metadata": {
            "tags": []
          }
        },
        {
          "output_type": "display_data",
          "data": {
            "image/png": "[encoded data removed]",
            "text/plain": [
              "<Figure size 1440x720 with 1 Axes>"
            ]
          },
          "metadata": {
            "tags": [],
            "needs_background": "light"
          }
        },
        {
          "output_type": "display_data",
          "data": {
            "text/plain": [
              "<Figure size 432x288 with 0 Axes>"
            ]
          },
          "metadata": {
            "tags": []
          }
        },
        {
          "output_type": "display_data",
          "data": {
            "image/png": "[encoded data removed]",
            "text/plain": [
              "<Figure size 1440x720 with 1 Axes>"
            ]
          },
          "metadata": {
            "tags": [],
            "needs_background": "light"
          }
        },
        {
          "output_type": "display_data",
          "data": {
            "text/plain": [
              "<Figure size 432x288 with 0 Axes>"
            ]
          },
          "metadata": {
            "tags": []
          }
        },
        {
          "output_type": "display_data",
          "data": {
            "image/png": "[encoded data removed]",
            "text/plain": [
              "<Figure size 1440x720 with 1 Axes>"
            ]
          },
          "metadata": {
            "tags": [],
            "needs_background": "light"
          }
        },
        {
          "output_type": "display_data",
          "data": {
            "text/plain": [
              "<Figure size 432x288 with 0 Axes>"
            ]
          },
          "metadata": {
            "tags": []
          }
        },
        {
          "output_type": "display_data",
          "data": {
            "image/png": "[encoded data removed]",
            "text/plain": [
              "<Figure size 1440x720 with 1 Axes>"
            ]
          },
          "metadata": {
            "tags": [],
            "needs_background": "light"
          }
        },
        {
          "output_type": "display_data",
          "data": {
            "text/plain": [
              "<Figure size 432x288 with 0 Axes>"
            ]
          },
          "metadata": {
            "tags": []
          }
        },
        {
          "output_type": "display_data",
          "data": {
            "image/png": "[encoded data removed]",
            "text/plain": [
              "<Figure size 1440x720 with 1 Axes>"
            ]
          },
          "metadata": {
            "tags": [],
            "needs_background": "light"
          }
        },
        {
          "output_type": "display_data",
          "data": {
            "text/plain": [
              "<Figure size 432x288 with 0 Axes>"
            ]
          },
          "metadata": {
            "tags": []
          }
        },
        {
          "output_type": "display_data",
          "data": {
            "image/png": "[encoded data removed]",
            "text/plain": [
              "<Figure size 1440x720 with 1 Axes>"
            ]
          },
          "metadata": {
            "tags": [],
            "needs_background": "light"
          }
        },
        {
          "output_type": "display_data",
          "data": {
            "text/plain": [
              "<Figure size 432x288 with 0 Axes>"
            ]
          },
          "metadata": {
            "tags": []
          }
        },
        {
          "output_type": "display_data",
          "data": {
            "image/png": "[encoded data removed]",
            "text/plain": [
              "<Figure size 1440x720 with 1 Axes>"
            ]
          },
          "metadata": {
            "tags": [],
            "needs_background": "light"
          }
        }
      ]
    },
    {
      "cell_type": "markdown",
      "metadata": {
        "id": "3fOIRbfyZlko"
      },
      "source": [
        "**결측값이 있는** 변수에서 알 수 있듯이 결측값을 예를 들어 모드로 대체하는 대신 별도의 범주 값으로 유지하는 것이 좋다. 결측값이 있는 고객은 보험 청구를 요청할 가능성이 훨씬 더 높은(경우에 따라 훨씬 더 낮은)것으로 보인다."
      ]
    },
    {
      "cell_type": "markdown",
      "metadata": {
        "id": "wDA9PeTsZ2jC"
      },
      "source": [
        "##**6.2 Interval variables**<br>\n",
        "Interval 변수 간의 상관 관계를 확인한다. Heatmap은 변수 간의 상관 관계를 시각화하는 좋은 방법이다. 아래 코드는 Michael Waskom의 예를 기반으로 한다."
      ]
    },
    {
      "cell_type": "code",
      "metadata": {
        "colab": {
          "base_uri": "https://localhost:8080/",
          "height": 538
        },
        "id": "HkW6ihGaZRub",
        "outputId": "4ac9fd34-4a7c-4ccc-ef42-6ba4f2522c60"
      },
      "source": [
        "def corr_heatmap(v):\n",
        "  correlations = train[v].corr()\n",
        "\n",
        "  # Create color map ranging between two colors\n",
        "  cmap = sns.diverging_palette(220, 10, as_cmap=True)\n",
        "\n",
        "  fig, ax = plt.subplots(figsize=(10, 10))\n",
        "  sns.heatmap(correlations, cmap=cmap, vmax=1.0, center=0, fmt='.2f',\n",
        "              square=True, linewidths=.5, annot=True, cbar_kws={'shrink': .75})\n",
        "  plt.show()\n",
        "\n",
        "v = meta[(meta.level == 'interval') & (meta.keep)].index\n",
        "corr_heatmap(v)"
      ],
      "execution_count": 26,
      "outputs": [
        {
          "output_type": "display_data",
          "data": {
            "image/png": "[encoded data removed]",
            "text/plain": [
              "<Figure size 720x720 with 2 Axes>"
            ]
          },
          "metadata": {
            "tags": [],
            "needs_background": "light"
          }
        }
      ]
    },
    {
      "cell_type": "markdown",
      "metadata": {
        "id": "AkhTpL0ya9mN"
      },
      "source": [
        "변수 간에는 강력한 상관 관계가 있다.<br>\n",
        "- ps_reg_02 and ps_reg_03 (0.7)\n",
        "- ps_car_12 and ps_car13 (0.67)\n",
        "- ps_car_12 and ps_car14 (0.58)\n",
        "- ps_car_13 and ps_car15 (0.67)\n",
        "\n",
        "Seaborn에는 변수 간의 (선형)관계를 시각화하는 몇 가지 편리한 플롯이 있다. Pairplot을 사용하여 변수 간의 관계를 시각화 할 수 있다. 그러나 heatmap은 이미 제한된 수의 상관된 변수를 보여주었기 때문에 상관 관계가 높은 각 변수를 개별적으로 살펴 보겠다.\n",
        "\n",
        "**NOTE** : 프로세스 속도를 높이기 위해 train data 샘플을 가져왔다."
      ]
    },
    {
      "cell_type": "code",
      "metadata": {
        "id": "Pkl8eFhma3cR"
      },
      "source": [
        "s = train.sample(frac=0.1)"
      ],
      "execution_count": 27,
      "outputs": []
    },
    {
      "cell_type": "markdown",
      "metadata": {
        "id": "MtKSk9Otb3Cj"
      },
      "source": [
        "> **ps_reg_02 and ps_reg_03**<br>\n",
        "회귀선에서 알 수 있듯이 이러한 변수 사이에는 선형 관계가 있다. `hue` 매개 변수 덕분에 `target=0`과 `target=1`에 대한 회귀선이 동일하다는 것을 알 수 있다."
      ]
    },
    {
      "cell_type": "code",
      "metadata": {
        "colab": {
          "base_uri": "https://localhost:8080/",
          "height": 384
        },
        "id": "gbJxFC60b0xo",
        "outputId": "690ba8ad-bb18-40c2-e404-66e597a28c1e"
      },
      "source": [
        "sns.lmplot(x='ps_reg_02', y='ps_reg_03', data=s, hue='target', palette='Set1', scatter_kws={'alpha':0.3})\n",
        "plt.show()"
      ],
      "execution_count": 28,
      "outputs": [
        {
          "output_type": "display_data",
          "data": {
            "image/png": "[encoded data removed]",
            "text/plain": [
              "<Figure size 402.375x360 with 1 Axes>"
            ]
          },
          "metadata": {
            "tags": [],
            "needs_background": "light"
          }
        }
      ]
    },
    {
      "cell_type": "markdown",
      "metadata": {
        "id": "v7HsWwHfcfMj"
      },
      "source": [
        "> **ps_car_12 and ps_car_13**"
      ]
    },
    {
      "cell_type": "code",
      "metadata": {
        "colab": {
          "base_uri": "https://localhost:8080/",
          "height": 384
        },
        "id": "qGLlEEmwcWUz",
        "outputId": "01e47c46-8d9b-4c9f-a021-0efdaa6c404f"
      },
      "source": [
        "sns.lmplot(x='ps_car_12', y='ps_car_13', data=s, hue='target', palette='Set1', scatter_kws={'alpha':0.3})\n",
        "plt.show()"
      ],
      "execution_count": 29,
      "outputs": [
        {
          "output_type": "display_data",
          "data": {
            "image/png": "[encoded data removed]",
            "text/plain": [
              "<Figure size 402.375x360 with 1 Axes>"
            ]
          },
          "metadata": {
            "tags": [],
            "needs_background": "light"
          }
        }
      ]
    },
    {
      "cell_type": "markdown",
      "metadata": {
        "id": "xeBB7AF-c6Ij"
      },
      "source": [
        "> **ps_car_12 and ps_car_14**"
      ]
    },
    {
      "cell_type": "code",
      "metadata": {
        "colab": {
          "base_uri": "https://localhost:8080/",
          "height": 384
        },
        "id": "UmS3iwJUc3Ei",
        "outputId": "6d827357-dfaa-4ba7-fc18-e4c6609bfd56"
      },
      "source": [
        "sns.lmplot(x='ps_car_12', y='ps_car_14', data=s, hue='target', palette='Set1', scatter_kws={'alpha':0.3})\n",
        "plt.show()"
      ],
      "execution_count": 30,
      "outputs": [
        {
          "output_type": "display_data",
          "data": {
            "image/png": "[encoded data removed]",
            "text/plain": [
              "<Figure size 402.375x360 with 1 Axes>"
            ]
          },
          "metadata": {
            "tags": [],
            "needs_background": "light"
          }
        }
      ]
    },
    {
      "cell_type": "markdown",
      "metadata": {
        "id": "46YgrpktdF6a"
      },
      "source": [
        "> **ps_car_13 and ps_car_15**"
      ]
    },
    {
      "cell_type": "code",
      "metadata": {
        "colab": {
          "base_uri": "https://localhost:8080/",
          "height": 384
        },
        "id": "Ua4SO8i4c-Uh",
        "outputId": "2703aff8-742c-41c6-ae27-23179314ca6d"
      },
      "source": [
        "sns.lmplot(x='ps_car_15', y='ps_car_13', data=s, hue='target', palette='Set1', scatter_kws={'alpha':0.3})\n",
        "plt.show()"
      ],
      "execution_count": 31,
      "outputs": [
        {
          "output_type": "display_data",
          "data": {
            "image/png": "[encoded data removed]",
            "text/plain": [
              "<Figure size 402.375x360 with 1 Axes>"
            ]
          },
          "metadata": {
            "tags": [],
            "needs_background": "light"
          }
        }
      ]
    },
    {
      "cell_type": "markdown",
      "metadata": {
        "id": "LCJuKXqKdNMP"
      },
      "source": [
        "유지할 상관 변수를 어떻게 결정할 수 있을까? 변수에 대해 PCA(주성분 분석)를 수행하여 차원을 줄일 수 있다. 그러나 상관 변수의 수가 적기 때문에 모델이 무거운 작업을 수행하도록 할 것이다."
      ]
    },
    {
      "cell_type": "markdown",
      "metadata": {
        "id": "hdg2Yo3Bdg0f"
      },
      "source": [
        "##**6.3 Checking the correlations between ordinal variables**"
      ]
    },
    {
      "cell_type": "code",
      "metadata": {
        "colab": {
          "base_uri": "https://localhost:8080/",
          "height": 539
        },
        "id": "VfIaZpqndJvl",
        "outputId": "7d473d56-66e2-4954-f1b0-e267adb88185"
      },
      "source": [
        "v = meta[(meta.level == 'ordinal') & (meta.keep)].index\n",
        "corr_heatmap(v)"
      ],
      "execution_count": 32,
      "outputs": [
        {
          "output_type": "display_data",
          "data": {
            "image/png": "[encoded data removed]",
            "text/plain": [
              "<Figure size 720x720 with 2 Axes>"
            ]
          },
          "metadata": {
            "tags": [],
            "needs_background": "light"
          }
        }
      ]
    },
    {
      "cell_type": "markdown",
      "metadata": {
        "id": "NTQTMF-Ndx9c"
      },
      "source": [
        "Ordinal 변수의 경우 상관관계가 많지 않다. 반면에 target 값으로 그룹화할 때 분포가 어떻게 되는지 볼 수 있다."
      ]
    },
    {
      "cell_type": "markdown",
      "metadata": {
        "id": "dveTwHttd8-3"
      },
      "source": [
        "#**7. Feature engineering**"
      ]
    },
    {
      "cell_type": "markdown",
      "metadata": {
        "id": "Z6huOuVDeBNY"
      },
      "source": [
        "##**7.1 Creating dummy variables**<br>\n",
        "범주형 변수의 값은 차수나 크기를 나타내지 않는다. 예를 들어 범주 2는 범주 1 값의 두 배가 아니다. 따라서 이를 처리하기 위해 더미 변수를 만들 수 있다. 이 정보는 원래 변수의 범주에 대해 생성된 다른 더미 변수에서 파생될 수 있으므로 첫 번째 더미 변수를 삭제한다."
      ]
    },
    {
      "cell_type": "code",
      "metadata": {
        "colab": {
          "base_uri": "https://localhost:8080/"
        },
        "id": "7jckbQhmdugQ",
        "outputId": "d55ec228-49b7-4ce3-c207-9c62eaa9c6e5"
      },
      "source": [
        "v = meta[(meta.level == 'nominal') & (meta.keep)].index\n",
        "print('Before dummification we have {} variables in train'.format(train.shape[1]))\n",
        "train = pd.get_dummies(train, columns=v, drop_first=True)\n",
        "print('After dummification we have {} variables in train'.format(train.shape[1]))"
      ],
      "execution_count": 33,
      "outputs": [
        {
          "output_type": "stream",
          "text": [
            "Before dummification we have 57 variables in train\n",
            "After dummification we have 109 variables in train\n"
          ],
          "name": "stdout"
        }
      ]
    },
    {
      "cell_type": "markdown",
      "metadata": {
        "id": "gMtO0htbfFsO"
      },
      "source": [
        "따라서 더미 변수를 생성하면 train set에 52개의 변수가 추가된다."
      ]
    },
    {
      "cell_type": "markdown",
      "metadata": {
        "id": "lqPFixqrfKpX"
      },
      "source": [
        "##**7.2 Creating ineteraction variables**"
      ]
    },
    {
      "cell_type": "code",
      "metadata": {
        "colab": {
          "base_uri": "https://localhost:8080/"
        },
        "id": "1h-nysBRfB3b",
        "outputId": "83e63d85-cef9-4f08-cb7d-68bf5dced718"
      },
      "source": [
        "v = meta[(meta.level == 'interval') & (meta.keep)].index\n",
        "poly = PolynomialFeatures(degree=2, interaction_only=False, include_bias=False)\n",
        "interactions = pd.DataFrame(data=poly.fit_transform(train[v]), columns=poly.get_feature_names(v))\n",
        "interactions.drop(v, axis=1, inplace=True)  # Remove the original columns\n",
        "# Concat the interaction variables to the train data\n",
        "print('Before creating interactions we have {} variables in train'.format(train.shape[1]))\n",
        "train = pd.concat([train, interactions], axis=1)\n",
        "print('After creating interactions we have {} variables in train'.format(train.shape[1]))"
      ],
      "execution_count": 34,
      "outputs": [
        {
          "output_type": "stream",
          "text": [
            "Before creating interactions we have 109 variables in train\n",
            "After creating interactions we have 164 variables in train\n"
          ],
          "name": "stdout"
        }
      ]
    },
    {
      "cell_type": "markdown",
      "metadata": {
        "id": "gG-WromvfTFb"
      },
      "source": [
        "이렇게 하면 train data에 추가 상호 작용 변수가 추가된다. `get_feature_names` method 덕분에 이러한 새 변수에 열 이름을 할당할 수 있다."
      ]
    },
    {
      "cell_type": "markdown",
      "metadata": {
        "id": "JJayd6_mfgyG"
      },
      "source": [
        "#**8. Feature selection**"
      ]
    },
    {
      "cell_type": "markdown",
      "metadata": {
        "id": "cAlTO1LmfkIx"
      },
      "source": [
        "##**8.1 Removing features with low or zero variance**<br>\n",
        "개인적으로 분류 알고리즘이 유지할 특성을 선택하도록 하는 것을 선호한다. 그러나 우리가 스스로 할 수 있는 것이 한 가지 있다. 이는 변동이 없거나 매우 낮은 특성을 제거하는 것이다. Sklearn에는 **VarianceThreshold**라는 편리한 방법이 있다. 기본적으로 분산이 0인 특성을 제거한다. 이전 단계에서 0 분산 변수가 없음을 확인했으므로 이 대회에는 적용되지 않는다. 그러나 분산이 1% 미만인 특성을 제거하면 31개의 변수가 제거된다."
      ]
    },
    {
      "cell_type": "code",
      "metadata": {
        "colab": {
          "base_uri": "https://localhost:8080/"
        },
        "id": "-qzUn8s9fQgi",
        "outputId": "585f1f4a-e00b-480b-cf52-c4e942f64473"
      },
      "source": [
        "selector = VarianceThreshold(threshold=.01)\n",
        "selector.fit(train.drop(['id', 'target'], axis=1))   # Fit to train without id and target variables\n",
        "\n",
        "f = np.vectorize(lambda x : not x)   # Function to toggle boolean array elements\n",
        "\n",
        "v = train.drop(['id', 'target'], axis=1).columns[f(selector.get_support())]\n",
        "print('{} variables have too low variance'.format(len(v)))\n",
        "print('These variables are {}'.format(list(v)))"
      ],
      "execution_count": 35,
      "outputs": [
        {
          "output_type": "stream",
          "text": [
            "28 variables have too low variance\n",
            "These variables are ['ps_ind_10_bin', 'ps_ind_11_bin', 'ps_ind_12_bin', 'ps_ind_13_bin', 'ps_car_12', 'ps_car_14', 'ps_car_11_cat_te', 'ps_ind_05_cat_2', 'ps_ind_05_cat_5', 'ps_car_01_cat_1', 'ps_car_01_cat_2', 'ps_car_04_cat_3', 'ps_car_04_cat_4', 'ps_car_04_cat_5', 'ps_car_04_cat_6', 'ps_car_04_cat_7', 'ps_car_06_cat_2', 'ps_car_06_cat_5', 'ps_car_06_cat_8', 'ps_car_06_cat_12', 'ps_car_06_cat_16', 'ps_car_06_cat_17', 'ps_car_09_cat_4', 'ps_car_10_cat_1', 'ps_car_10_cat_2', 'ps_car_12^2', 'ps_car_12 ps_car_14', 'ps_car_14^2']\n"
          ],
          "name": "stdout"
        }
      ]
    },
    {
      "cell_type": "markdown",
      "metadata": {
        "id": "MsHuchwohIRo"
      },
      "source": [
        "분산을 기반으로 선택하면 다소 많은 변수를 잃게 된다. 그러나 변수가 너무 많지 않기 때문에 분류기가 선택하도록 할 것이다. 더 많은 변수가 있는 dataset의 경우 처리 시간을 줄일 수 있다.\n",
        "\n",
        "Sklearn은 또한 다른 특성 선택 방법과 함께 제공된다. 이러한 method 중 하나는 다른 분류기가 최상의 특성을 선택하고 계속 진행하도록 하는 SelectFromModel이다. 아래에서는 Random Forest로 이를 수행하는 방법을 보여 주겠다."
      ]
    },
    {
      "cell_type": "markdown",
      "metadata": {
        "id": "fMLaZsORhx_3"
      },
      "source": [
        "##**8.2 Selecting features with a Random Forest and SelectFromModel**<br>\n",
        "여기서는 Random Forest의 특성 중요도를 기준으로 특성 선택을 할 것이다. Sklearn의 SelectFromModel을 사용하면 유지할 변수 수를 지정할 수 있다. 특성 중요도 수준에 대한 임계값을 수동으로 설정할 수 있다. 그러나 우리는 단순히 상위 50% 최고의 변수를 선택한다.\n",
        ">아래 셀의 코드는 Sebastian Raschka의 GitHub 저장소에서 가져 왔다. 이 저장소에는 반드시 읽어야 할 책인 Python Machine Learning의 코드 샘플이 포함되어 있다."
      ]
    },
    {
      "cell_type": "code",
      "metadata": {
        "colab": {
          "base_uri": "https://localhost:8080/"
        },
        "id": "kgdajP_shE-n",
        "outputId": "74190c48-6e2e-4d2b-e1dd-2209cf6450f0"
      },
      "source": [
        "X_train = train.drop(['id', 'target'], axis=1)\n",
        "y_train = train['target']\n",
        "\n",
        "feat_labels = X_train.columns\n",
        "\n",
        "rf = RandomForestClassifier(n_estimators=1000, random_state=0, n_jobs=-1)\n",
        "\n",
        "rf.fit(X_train, y_train)\n",
        "importances = rf.feature_importances_\n",
        "\n",
        "indices = np.argsort(rf.feature_importances_)[::-1]\n",
        "\n",
        "for f in range(X_train.shape[1]):\n",
        "  print(\"%2d) %-*s %f\" % (f + 1, 30, feat_labels[indices[f]], importances[indices[f]]))"
      ],
      "execution_count": 36,
      "outputs": [
        {
          "output_type": "stream",
          "text": [
            " 1) ps_car_11_cat_te               0.021183\n",
            " 2) ps_car_13                      0.017368\n",
            " 3) ps_car_12 ps_car_13            0.017322\n",
            " 4) ps_car_13^2                    0.017189\n",
            " 5) ps_car_13 ps_car_14            0.017133\n",
            " 6) ps_reg_03 ps_car_13            0.017076\n",
            " 7) ps_reg_01 ps_car_13            0.016906\n",
            " 8) ps_car_13 ps_car_15            0.016844\n",
            " 9) ps_reg_03 ps_car_14            0.016197\n",
            "10) ps_reg_03 ps_car_12            0.015534\n",
            "11) ps_reg_03 ps_car_15            0.015207\n",
            "12) ps_car_14 ps_car_15            0.015103\n",
            "13) ps_car_13 ps_calc_01           0.014745\n",
            "14) ps_reg_01 ps_reg_03            0.014706\n",
            "15) ps_car_13 ps_calc_03           0.014673\n",
            "16) ps_reg_02 ps_car_13            0.014658\n",
            "17) ps_car_13 ps_calc_02           0.014614\n",
            "18) ps_reg_01 ps_car_14            0.014245\n",
            "19) ps_reg_03^2                    0.014218\n",
            "20) ps_reg_03                      0.014213\n",
            "21) ps_reg_03 ps_calc_03           0.013885\n",
            "22) ps_reg_03 ps_calc_02           0.013836\n",
            "23) ps_reg_03 ps_calc_01           0.013701\n",
            "24) ps_car_14 ps_calc_02           0.013619\n",
            "25) ps_calc_10                     0.013600\n",
            "26) ps_car_14 ps_calc_01           0.013565\n",
            "27) ps_car_14 ps_calc_03           0.013514\n",
            "28) ps_calc_14                     0.013399\n",
            "29) ps_car_12 ps_car_14            0.012929\n",
            "30) ps_ind_03                      0.012867\n",
            "31) ps_reg_02 ps_car_14            0.012712\n",
            "32) ps_car_14^2                    0.012704\n",
            "33) ps_car_14                      0.012701\n",
            "34) ps_calc_11                     0.012657\n",
            "35) ps_reg_02 ps_reg_03            0.012521\n",
            "36) ps_ind_15                      0.012144\n",
            "37) ps_car_12 ps_car_15            0.010965\n",
            "38) ps_car_15 ps_calc_03           0.010921\n",
            "39) ps_car_15 ps_calc_02           0.010820\n",
            "40) ps_car_15 ps_calc_01           0.010812\n",
            "41) ps_calc_13                     0.010500\n",
            "42) ps_car_12 ps_calc_01           0.010476\n",
            "43) ps_car_12 ps_calc_03           0.010353\n",
            "44) ps_car_12 ps_calc_02           0.010284\n",
            "45) ps_reg_01 ps_car_15            0.010231\n",
            "46) ps_reg_02 ps_car_15            0.010153\n",
            "47) ps_calc_02 ps_calc_03          0.010105\n",
            "48) ps_calc_01 ps_calc_02          0.010055\n",
            "49) ps_calc_01 ps_calc_03          0.009940\n",
            "50) ps_calc_07                     0.009804\n",
            "51) ps_calc_08                     0.009796\n",
            "52) ps_reg_01 ps_car_12            0.009473\n",
            "53) ps_reg_02 ps_car_12            0.009281\n",
            "54) ps_reg_02 ps_calc_01           0.009249\n",
            "55) ps_reg_02 ps_calc_03           0.009225\n",
            "56) ps_reg_02 ps_calc_02           0.009173\n",
            "57) ps_reg_01 ps_calc_01           0.009050\n",
            "58) ps_calc_06                     0.009048\n",
            "59) ps_reg_01 ps_calc_02           0.009044\n",
            "60) ps_reg_01 ps_calc_03           0.009030\n",
            "61) ps_calc_09                     0.008820\n",
            "62) ps_ind_01                      0.008622\n",
            "63) ps_calc_05                     0.008317\n",
            "64) ps_calc_04                     0.008184\n",
            "65) ps_calc_12                     0.008057\n",
            "66) ps_reg_01 ps_reg_02            0.008019\n",
            "67) ps_car_15^2                    0.006174\n",
            "68) ps_car_15                      0.006142\n",
            "69) ps_calc_03                     0.006001\n",
            "70) ps_calc_03^2                   0.005975\n",
            "71) ps_calc_01                     0.005969\n",
            "72) ps_calc_01^2                   0.005949\n",
            "73) ps_calc_02                     0.005943\n",
            "74) ps_calc_02^2                   0.005935\n",
            "75) ps_car_12^2                    0.005357\n",
            "76) ps_car_12                      0.005335\n",
            "77) ps_reg_02^2                    0.005014\n",
            "78) ps_reg_02                      0.004991\n",
            "79) ps_reg_01                      0.004157\n",
            "80) ps_reg_01^2                    0.004151\n",
            "81) ps_car_11                      0.003774\n",
            "82) ps_ind_05_cat_0                0.003577\n",
            "83) ps_ind_17_bin                  0.002827\n",
            "84) ps_calc_17_bin                 0.002669\n",
            "85) ps_calc_16_bin                 0.002612\n",
            "86) ps_calc_19_bin                 0.002537\n",
            "87) ps_calc_18_bin                 0.002467\n",
            "88) ps_car_01_cat_11               0.002402\n",
            "89) ps_ind_16_bin                  0.002399\n",
            "90) ps_ind_04_cat_0                0.002379\n",
            "91) ps_ind_04_cat_1                0.002373\n",
            "92) ps_ind_07_bin                  0.002318\n",
            "93) ps_car_09_cat_2                0.002304\n",
            "94) ps_ind_02_cat_1                0.002248\n",
            "95) ps_ind_02_cat_2                0.002105\n",
            "96) ps_car_01_cat_7                0.002085\n",
            "97) ps_car_09_cat_0                0.002085\n",
            "98) ps_calc_20_bin                 0.002083\n",
            "99) ps_ind_06_bin                  0.002051\n",
            "100) ps_car_06_cat_1                0.002000\n",
            "101) ps_calc_15_bin                 0.001970\n",
            "102) ps_ind_08_bin                  0.001969\n",
            "103) ps_car_07_cat_1                0.001945\n",
            "104) ps_car_09_cat_1                0.001842\n",
            "105) ps_car_06_cat_11               0.001786\n",
            "106) ps_ind_18_bin                  0.001718\n",
            "107) ps_ind_09_bin                  0.001715\n",
            "108) ps_car_01_cat_10               0.001614\n",
            "109) ps_car_01_cat_9                0.001600\n",
            "110) ps_car_06_cat_14               0.001563\n",
            "111) ps_car_01_cat_4                0.001531\n",
            "112) ps_car_01_cat_6                0.001523\n",
            "113) ps_ind_05_cat_6                0.001492\n",
            "114) ps_ind_02_cat_3                0.001429\n",
            "115) ps_car_07_cat_0                0.001386\n",
            "116) ps_car_02_cat_1                0.001354\n",
            "117) ps_car_08_cat_1                0.001350\n",
            "118) ps_car_02_cat_0                0.001316\n",
            "119) ps_car_01_cat_8                0.001312\n",
            "120) ps_car_06_cat_4                0.001236\n",
            "121) ps_ind_05_cat_4                0.001219\n",
            "122) ps_ind_02_cat_4                0.001169\n",
            "123) ps_car_01_cat_5                0.001127\n",
            "124) ps_car_06_cat_6                0.001117\n",
            "125) ps_car_06_cat_10               0.001045\n",
            "126) ps_car_04_cat_1                0.001034\n",
            "127) ps_ind_05_cat_2                0.001029\n",
            "128) ps_car_04_cat_2                0.000987\n",
            "129) ps_car_06_cat_7                0.000986\n",
            "130) ps_car_01_cat_3                0.000892\n",
            "131) ps_car_09_cat_3                0.000882\n",
            "132) ps_car_01_cat_0                0.000876\n",
            "133) ps_ind_14                      0.000853\n",
            "134) ps_car_06_cat_15               0.000837\n",
            "135) ps_car_06_cat_9                0.000784\n",
            "136) ps_ind_05_cat_1                0.000759\n",
            "137) ps_car_06_cat_3                0.000715\n",
            "138) ps_car_10_cat_1                0.000711\n",
            "139) ps_ind_12_bin                  0.000677\n",
            "140) ps_ind_05_cat_3                0.000669\n",
            "141) ps_car_09_cat_4                0.000631\n",
            "142) ps_car_01_cat_2                0.000560\n",
            "143) ps_car_04_cat_8                0.000555\n",
            "144) ps_car_06_cat_17               0.000521\n",
            "145) ps_car_06_cat_16               0.000478\n",
            "146) ps_car_04_cat_9                0.000443\n",
            "147) ps_car_06_cat_12               0.000434\n",
            "148) ps_car_06_cat_13               0.000398\n",
            "149) ps_car_01_cat_1                0.000382\n",
            "150) ps_ind_05_cat_5                0.000316\n",
            "151) ps_car_06_cat_5                0.000280\n",
            "152) ps_ind_11_bin                  0.000209\n",
            "153) ps_car_04_cat_6                0.000198\n",
            "154) ps_car_04_cat_3                0.000152\n",
            "155) ps_ind_13_bin                  0.000149\n",
            "156) ps_car_06_cat_2                0.000141\n",
            "157) ps_car_04_cat_5                0.000098\n",
            "158) ps_car_06_cat_8                0.000097\n",
            "159) ps_car_04_cat_7                0.000082\n",
            "160) ps_ind_10_bin                  0.000071\n",
            "161) ps_car_10_cat_2                0.000059\n",
            "162) ps_car_04_cat_4                0.000042\n"
          ],
          "name": "stdout"
        }
      ]
    },
    {
      "cell_type": "markdown",
      "metadata": {
        "id": "irb_ZjJNjVMm"
      },
      "source": [
        "SelectFromModel을 사용하여 사용할 사전 적합 분류기와 특성 중요도에 대한 임계값을 지정할 수 있다. `get_support` method를 사용하면 train data의 변수 수를 제한할 수 있다."
      ]
    },
    {
      "cell_type": "code",
      "metadata": {
        "colab": {
          "base_uri": "https://localhost:8080/"
        },
        "id": "eMnR_jnLjQrl",
        "outputId": "53b2a290-d151-4851-9534-992f8e277eec"
      },
      "source": [
        "sfm = SelectFromModel(rf, threshold='median', prefit=True)\n",
        "print('Number of features before selection: {}'.format(X_train.shape[1]))\n",
        "n_features = sfm.transform(X_train).shape[1]\n",
        "print('Number of features after selection: {}'.format(n_features))\n",
        "selected_vars = list(feat_labels[sfm.get_support()])"
      ],
      "execution_count": 37,
      "outputs": [
        {
          "output_type": "stream",
          "text": [
            "Number of features before selection: 162\n",
            "Number of features after selection: 81\n"
          ],
          "name": "stdout"
        }
      ]
    },
    {
      "cell_type": "code",
      "metadata": {
        "id": "Ql2HyV-AkSwW"
      },
      "source": [
        "train = train[selected_vars + ['target']]"
      ],
      "execution_count": 38,
      "outputs": []
    },
    {
      "cell_type": "markdown",
      "metadata": {
        "id": "TvEYYh0Bkb7l"
      },
      "source": [
        "#**9. Feature scaling**<br>\n",
        "앞서 언급했듯이 train data에 표준 확장을 적용할 수 있다. 이 작업이 완료되면 일부 분류기가 더 잘 수행된다."
      ]
    },
    {
      "cell_type": "code",
      "metadata": {
        "colab": {
          "base_uri": "https://localhost:8080/"
        },
        "id": "166ImrknkYPK",
        "outputId": "96dcc045-3d34-4755-a2d7-0f135442eaf4"
      },
      "source": [
        "scaler = StandardScaler()\n",
        "scaler.fit_transform(train.drop(['target'], axis=1))"
      ],
      "execution_count": 39,
      "outputs": [
        {
          "output_type": "execute_result",
          "data": {
            "text/plain": [
              "array([[-0.45941104, -1.26665356,  1.05087653, ..., -0.72553616,\n",
              "        -1.01071913, -1.06173767],\n",
              "       [ 1.55538958,  0.95034274, -0.63847299, ..., -1.06120876,\n",
              "        -1.01071913,  0.27907892],\n",
              "       [ 1.05168943, -0.52765479, -0.92003125, ...,  1.95984463,\n",
              "        -0.56215309, -1.02449277],\n",
              "       ...,\n",
              "       [-0.9631112 ,  0.58084336,  0.48776003, ..., -0.46445747,\n",
              "         0.18545696,  0.27907892],\n",
              "       [-0.9631112 , -0.89715418, -1.48314775, ..., -0.91202093,\n",
              "        -0.41263108,  0.27907892],\n",
              "       [-0.45941104, -1.26665356,  1.61399304, ...,  0.28148164,\n",
              "        -0.11358706, -0.72653353]])"
            ]
          },
          "metadata": {
            "tags": []
          },
          "execution_count": 39
        }
      ]
    }
  ]
}